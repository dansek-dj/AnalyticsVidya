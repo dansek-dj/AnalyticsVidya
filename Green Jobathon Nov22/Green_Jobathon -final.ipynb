{
 "cells": [
  {
   "cell_type": "markdown",
   "id": "8fd5c205",
   "metadata": {},
   "source": [
    "# Importing the neccessary libraries"
   ]
  },
  {
   "cell_type": "code",
   "execution_count": 1,
   "id": "bd11b69e",
   "metadata": {
    "id": "bd11b69e"
   },
   "outputs": [],
   "source": [
    "import pandas as pd\n",
    "import numpy as np\n",
    "import seaborn as sns\n",
    "import matplotlib.pyplot as plt"
   ]
  },
  {
   "cell_type": "code",
   "execution_count": 2,
   "id": "ff45c216",
   "metadata": {
    "colab": {
     "base_uri": "https://localhost:8080/",
     "height": 237
    },
    "id": "ff45c216",
    "outputId": "38b3b7d1-55d8-4365-8ec6-c0d3257c877a"
   },
   "outputs": [
    {
     "data": {
      "text/html": [
       "<div>\n",
       "<style scoped>\n",
       "    .dataframe tbody tr th:only-of-type {\n",
       "        vertical-align: middle;\n",
       "    }\n",
       "\n",
       "    .dataframe tbody tr th {\n",
       "        vertical-align: top;\n",
       "    }\n",
       "\n",
       "    .dataframe thead th {\n",
       "        text-align: right;\n",
       "    }\n",
       "</style>\n",
       "<table border=\"1\" class=\"dataframe\">\n",
       "  <thead>\n",
       "    <tr style=\"text-align: right;\">\n",
       "      <th></th>\n",
       "      <th>datetime</th>\n",
       "      <th>energy</th>\n",
       "    </tr>\n",
       "    <tr>\n",
       "      <th>row_id</th>\n",
       "      <th></th>\n",
       "      <th></th>\n",
       "    </tr>\n",
       "  </thead>\n",
       "  <tbody>\n",
       "    <tr>\n",
       "      <th>1</th>\n",
       "      <td>2008-03-01 00:00:00</td>\n",
       "      <td>1259.985563</td>\n",
       "    </tr>\n",
       "    <tr>\n",
       "      <th>2</th>\n",
       "      <td>2008-03-01 01:00:00</td>\n",
       "      <td>1095.541500</td>\n",
       "    </tr>\n",
       "    <tr>\n",
       "      <th>3</th>\n",
       "      <td>2008-03-01 02:00:00</td>\n",
       "      <td>1056.247500</td>\n",
       "    </tr>\n",
       "    <tr>\n",
       "      <th>4</th>\n",
       "      <td>2008-03-01 03:00:00</td>\n",
       "      <td>1034.742000</td>\n",
       "    </tr>\n",
       "    <tr>\n",
       "      <th>5</th>\n",
       "      <td>2008-03-01 04:00:00</td>\n",
       "      <td>1026.334500</td>\n",
       "    </tr>\n",
       "  </tbody>\n",
       "</table>\n",
       "</div>"
      ],
      "text/plain": [
       "                   datetime       energy\n",
       "row_id                                  \n",
       "1       2008-03-01 00:00:00  1259.985563\n",
       "2       2008-03-01 01:00:00  1095.541500\n",
       "3       2008-03-01 02:00:00  1056.247500\n",
       "4       2008-03-01 03:00:00  1034.742000\n",
       "5       2008-03-01 04:00:00  1026.334500"
      ]
     },
     "execution_count": 2,
     "metadata": {},
     "output_type": "execute_result"
    }
   ],
   "source": [
    "train = pd.read_csv('train_IxoE5JN.csv', index_col = 'row_id')\n",
    "test = pd.read_csv('test_WudNWDM.csv', index_col = 'row_id')\n",
    "sample = pd.read_csv('sample_submission_jn0a7vR.csv')\n",
    "train.head()"
   ]
  },
  {
   "cell_type": "markdown",
   "id": "55f9b3f2",
   "metadata": {},
   "source": [
    "## Getting general info about the dataset"
   ]
  },
  {
   "cell_type": "code",
   "execution_count": 3,
   "id": "3b9e43f9",
   "metadata": {
    "colab": {
     "base_uri": "https://localhost:8080/"
    },
    "id": "3b9e43f9",
    "outputId": "15d8a9c6-4da7-47b6-fd68-49213e3b8bf0",
    "scrolled": true
   },
   "outputs": [
    {
     "name": "stdout",
     "output_type": "stream",
     "text": [
      "<class 'pandas.core.frame.DataFrame'>\n",
      "Int64Index: 94992 entries, 1 to 94992\n",
      "Data columns (total 2 columns):\n",
      " #   Column    Non-Null Count  Dtype  \n",
      "---  ------    --------------  -----  \n",
      " 0   datetime  94992 non-null  object \n",
      " 1   energy    93092 non-null  float64\n",
      "dtypes: float64(1), object(1)\n",
      "memory usage: 2.2+ MB\n"
     ]
    }
   ],
   "source": [
    "train.info()"
   ]
  },
  {
   "cell_type": "code",
   "execution_count": 4,
   "id": "7af6a636",
   "metadata": {
    "colab": {
     "base_uri": "https://localhost:8080/"
    },
    "id": "7af6a636",
    "outputId": "cabf2e8f-7c3f-4969-c621-491e405f11fb"
   },
   "outputs": [
    {
     "data": {
      "text/plain": [
       "(94992, 2)"
      ]
     },
     "execution_count": 4,
     "metadata": {},
     "output_type": "execute_result"
    }
   ],
   "source": [
    "train.shape"
   ]
  },
  {
   "cell_type": "markdown",
   "id": "d0587937",
   "metadata": {},
   "source": [
    "## Find the percentage of null values in the dataset"
   ]
  },
  {
   "cell_type": "code",
   "execution_count": 5,
   "id": "3e2165a1",
   "metadata": {
    "colab": {
     "base_uri": "https://localhost:8080/"
    },
    "id": "3e2165a1",
    "outputId": "288e913a-e30a-448a-f868-d26484d8218f",
    "scrolled": false
   },
   "outputs": [
    {
     "data": {
      "text/plain": [
       "datetime    0.000000\n",
       "energy      0.020002\n",
       "dtype: float64"
      ]
     },
     "execution_count": 5,
     "metadata": {},
     "output_type": "execute_result"
    }
   ],
   "source": [
    "train.isna().sum()/train.shape[0]"
   ]
  },
  {
   "cell_type": "markdown",
   "id": "e96a51ab",
   "metadata": {},
   "source": [
    "### Since the percentage of null data is just 2% decided to drop them all"
   ]
  },
  {
   "cell_type": "code",
   "execution_count": 6,
   "id": "77199782",
   "metadata": {
    "id": "77199782",
    "scrolled": true
   },
   "outputs": [],
   "source": [
    "train.dropna(inplace = True)"
   ]
  },
  {
   "cell_type": "code",
   "execution_count": 7,
   "id": "9f4531de",
   "metadata": {
    "colab": {
     "base_uri": "https://localhost:8080/"
    },
    "id": "9f4531de",
    "outputId": "c868a4ac-03e3-4b5d-849a-0cf20b15752e"
   },
   "outputs": [
    {
     "data": {
      "text/plain": [
       "datetime    0\n",
       "energy      0\n",
       "dtype: int64"
      ]
     },
     "execution_count": 7,
     "metadata": {},
     "output_type": "execute_result"
    }
   ],
   "source": [
    "train.isna().sum()"
   ]
  },
  {
   "cell_type": "markdown",
   "id": "bf8ad5c0",
   "metadata": {},
   "source": [
    "## Combining the test and train data for Preproccessing"
   ]
  },
  {
   "cell_type": "code",
   "execution_count": 8,
   "id": "06f632a7",
   "metadata": {
    "colab": {
     "base_uri": "https://localhost:8080/",
     "height": 237
    },
    "id": "06f632a7",
    "outputId": "30083952-e273-4ff7-c909-3dcf2188b3f9",
    "scrolled": true
   },
   "outputs": [
    {
     "data": {
      "text/html": [
       "<div>\n",
       "<style scoped>\n",
       "    .dataframe tbody tr th:only-of-type {\n",
       "        vertical-align: middle;\n",
       "    }\n",
       "\n",
       "    .dataframe tbody tr th {\n",
       "        vertical-align: top;\n",
       "    }\n",
       "\n",
       "    .dataframe thead th {\n",
       "        text-align: right;\n",
       "    }\n",
       "</style>\n",
       "<table border=\"1\" class=\"dataframe\">\n",
       "  <thead>\n",
       "    <tr style=\"text-align: right;\">\n",
       "      <th></th>\n",
       "      <th>datetime</th>\n",
       "      <th>energy</th>\n",
       "      <th>source</th>\n",
       "    </tr>\n",
       "    <tr>\n",
       "      <th>row_id</th>\n",
       "      <th></th>\n",
       "      <th></th>\n",
       "      <th></th>\n",
       "    </tr>\n",
       "  </thead>\n",
       "  <tbody>\n",
       "    <tr>\n",
       "      <th>121292</th>\n",
       "      <td>2021-12-31 19:00:00</td>\n",
       "      <td>NaN</td>\n",
       "      <td>test</td>\n",
       "    </tr>\n",
       "    <tr>\n",
       "      <th>121293</th>\n",
       "      <td>2021-12-31 20:00:00</td>\n",
       "      <td>NaN</td>\n",
       "      <td>test</td>\n",
       "    </tr>\n",
       "    <tr>\n",
       "      <th>121294</th>\n",
       "      <td>2021-12-31 21:00:00</td>\n",
       "      <td>NaN</td>\n",
       "      <td>test</td>\n",
       "    </tr>\n",
       "    <tr>\n",
       "      <th>121295</th>\n",
       "      <td>2021-12-31 22:00:00</td>\n",
       "      <td>NaN</td>\n",
       "      <td>test</td>\n",
       "    </tr>\n",
       "    <tr>\n",
       "      <th>121296</th>\n",
       "      <td>2021-12-31 23:00:00</td>\n",
       "      <td>NaN</td>\n",
       "      <td>test</td>\n",
       "    </tr>\n",
       "  </tbody>\n",
       "</table>\n",
       "</div>"
      ],
      "text/plain": [
       "                   datetime  energy source\n",
       "row_id                                    \n",
       "121292  2021-12-31 19:00:00     NaN   test\n",
       "121293  2021-12-31 20:00:00     NaN   test\n",
       "121294  2021-12-31 21:00:00     NaN   test\n",
       "121295  2021-12-31 22:00:00     NaN   test\n",
       "121296  2021-12-31 23:00:00     NaN   test"
      ]
     },
     "execution_count": 8,
     "metadata": {},
     "output_type": "execute_result"
    }
   ],
   "source": [
    "train['source'] = 'train'\n",
    "test['source'] = 'test'\n",
    "df = pd.concat([train, test])\n",
    "df.tail()"
   ]
  },
  {
   "cell_type": "markdown",
   "id": "1c899dab",
   "metadata": {},
   "source": [
    "### The datetime feature is in object format so converting it into Datetime format for further proccessing "
   ]
  },
  {
   "cell_type": "code",
   "execution_count": 9,
   "id": "d8a197f5",
   "metadata": {
    "colab": {
     "base_uri": "https://localhost:8080/"
    },
    "id": "d8a197f5",
    "outputId": "9db42eef-1938-497f-ed45-912589d1a4df",
    "scrolled": true
   },
   "outputs": [
    {
     "name": "stdout",
     "output_type": "stream",
     "text": [
      "<class 'pandas.core.frame.DataFrame'>\n",
      "Int64Index: 119396 entries, 1 to 121296\n",
      "Data columns (total 3 columns):\n",
      " #   Column    Non-Null Count   Dtype         \n",
      "---  ------    --------------   -----         \n",
      " 0   datetime  119396 non-null  datetime64[ns]\n",
      " 1   energy    93092 non-null   float64       \n",
      " 2   source    119396 non-null  object        \n",
      "dtypes: datetime64[ns](1), float64(1), object(1)\n",
      "memory usage: 3.6+ MB\n"
     ]
    }
   ],
   "source": [
    "df.datetime= pd.to_datetime(df.datetime)\n",
    "df.info()"
   ]
  },
  {
   "cell_type": "code",
   "execution_count": 10,
   "id": "a584585d",
   "metadata": {
    "colab": {
     "base_uri": "https://localhost:8080/"
    },
    "id": "a584585d",
    "outputId": "4b92ea48-739f-48b2-f039-43edb6ef0c35"
   },
   "outputs": [
    {
     "name": "stdout",
     "output_type": "stream",
     "text": [
      "datetime    0\n",
      "energy      0\n",
      "source      0\n",
      "dtype: int64\n",
      "datetime        0\n",
      "energy      26304\n",
      "source          0\n",
      "dtype: int64\n"
     ]
    }
   ],
   "source": [
    "print(train.isna().sum())\n",
    "print(df.isna().sum())"
   ]
  },
  {
   "cell_type": "code",
   "execution_count": 11,
   "id": "43115aa0",
   "metadata": {
    "colab": {
     "base_uri": "https://localhost:8080/"
    },
    "id": "43115aa0",
    "outputId": "163e1ea1-349c-4935-d797-70f9977d5f77"
   },
   "outputs": [
    {
     "name": "stdout",
     "output_type": "stream",
     "text": [
      "0\n",
      "0\n"
     ]
    }
   ],
   "source": [
    "print(train.duplicated().sum())\n",
    "print(df.duplicated().sum())"
   ]
  },
  {
   "cell_type": "markdown",
   "id": "c6d37990",
   "metadata": {},
   "source": [
    "### Getting a sense of the data thru plotting the energy demand over the years. We can infer that the energy requirement increases steadily over the years"
   ]
  },
  {
   "cell_type": "code",
   "execution_count": 12,
   "id": "16ba500c",
   "metadata": {
    "colab": {
     "base_uri": "https://localhost:8080/",
     "height": 298
    },
    "id": "16ba500c",
    "outputId": "069ebeec-ffb7-458a-afc8-4f9913b2e2f4"
   },
   "outputs": [
    {
     "data": {
      "text/plain": [
       "<AxesSubplot:xlabel='row_id', ylabel='energy'>"
      ]
     },
     "execution_count": 12,
     "metadata": {},
     "output_type": "execute_result"
    },
    {
     "data": {
      "image/png": "[encoded data removed]",
      "text/plain": [
       "<Figure size 432x288 with 1 Axes>"
      ]
     },
     "metadata": {
      "needs_background": "light"
     },
     "output_type": "display_data"
    }
   ],
   "source": [
    "sns.lineplot(data = train, x = 'row_id', y = 'energy')"
   ]
  },
  {
   "cell_type": "markdown",
   "id": "8c4717aa",
   "metadata": {},
   "source": [
    "### Seperating the datetime column into multiple columns for better features"
   ]
  },
  {
   "cell_type": "code",
   "execution_count": 13,
   "id": "9f8af3c3",
   "metadata": {
    "id": "9f8af3c3"
   },
   "outputs": [],
   "source": [
    "df['date'] = pd.to_datetime(df['datetime']).dt.day.astype(int)\n",
    "df['month'] = pd.to_datetime(df['datetime']).dt.month\n",
    "df['year'] = pd.to_datetime(df['datetime']).dt.year\n",
    "df['hour'] = pd.to_datetime(df['datetime']).dt.hour"
   ]
  },
  {
   "cell_type": "code",
   "execution_count": 14,
   "id": "3246ff3f",
   "metadata": {
    "id": "3246ff3f"
   },
   "outputs": [],
   "source": [
    "df['week'] = pd.to_datetime(df['datetime']).dt.weekday"
   ]
  },
  {
   "cell_type": "code",
   "execution_count": 15,
   "id": "442a5c0b",
   "metadata": {
    "colab": {
     "base_uri": "https://localhost:8080/",
     "height": 1000
    },
    "id": "442a5c0b",
    "outputId": "4b6cb44e-3fe8-4d25-97a6-8925614ff189"
   },
   "outputs": [
    {
     "data": {
      "text/html": [
       "<div>\n",
       "<style scoped>\n",
       "    .dataframe tbody tr th:only-of-type {\n",
       "        vertical-align: middle;\n",
       "    }\n",
       "\n",
       "    .dataframe tbody tr th {\n",
       "        vertical-align: top;\n",
       "    }\n",
       "\n",
       "    .dataframe thead th {\n",
       "        text-align: right;\n",
       "    }\n",
       "</style>\n",
       "<table border=\"1\" class=\"dataframe\">\n",
       "  <thead>\n",
       "    <tr style=\"text-align: right;\">\n",
       "      <th></th>\n",
       "      <th>datetime</th>\n",
       "      <th>energy</th>\n",
       "      <th>source</th>\n",
       "      <th>date</th>\n",
       "      <th>month</th>\n",
       "      <th>year</th>\n",
       "      <th>hour</th>\n",
       "      <th>week</th>\n",
       "    </tr>\n",
       "    <tr>\n",
       "      <th>row_id</th>\n",
       "      <th></th>\n",
       "      <th></th>\n",
       "      <th></th>\n",
       "      <th></th>\n",
       "      <th></th>\n",
       "      <th></th>\n",
       "      <th></th>\n",
       "      <th></th>\n",
       "    </tr>\n",
       "  </thead>\n",
       "  <tbody>\n",
       "    <tr>\n",
       "      <th>1</th>\n",
       "      <td>2008-03-01 00:00:00</td>\n",
       "      <td>1259.985563</td>\n",
       "      <td>train</td>\n",
       "      <td>1</td>\n",
       "      <td>3</td>\n",
       "      <td>2008</td>\n",
       "      <td>0</td>\n",
       "      <td>5</td>\n",
       "    </tr>\n",
       "    <tr>\n",
       "      <th>2</th>\n",
       "      <td>2008-03-01 01:00:00</td>\n",
       "      <td>1095.541500</td>\n",
       "      <td>train</td>\n",
       "      <td>1</td>\n",
       "      <td>3</td>\n",
       "      <td>2008</td>\n",
       "      <td>1</td>\n",
       "      <td>5</td>\n",
       "    </tr>\n",
       "    <tr>\n",
       "      <th>3</th>\n",
       "      <td>2008-03-01 02:00:00</td>\n",
       "      <td>1056.247500</td>\n",
       "      <td>train</td>\n",
       "      <td>1</td>\n",
       "      <td>3</td>\n",
       "      <td>2008</td>\n",
       "      <td>2</td>\n",
       "      <td>5</td>\n",
       "    </tr>\n",
       "    <tr>\n",
       "      <th>4</th>\n",
       "      <td>2008-03-01 03:00:00</td>\n",
       "      <td>1034.742000</td>\n",
       "      <td>train</td>\n",
       "      <td>1</td>\n",
       "      <td>3</td>\n",
       "      <td>2008</td>\n",
       "      <td>3</td>\n",
       "      <td>5</td>\n",
       "    </tr>\n",
       "    <tr>\n",
       "      <th>5</th>\n",
       "      <td>2008-03-01 04:00:00</td>\n",
       "      <td>1026.334500</td>\n",
       "      <td>train</td>\n",
       "      <td>1</td>\n",
       "      <td>3</td>\n",
       "      <td>2008</td>\n",
       "      <td>4</td>\n",
       "      <td>5</td>\n",
       "    </tr>\n",
       "    <tr>\n",
       "      <th>6</th>\n",
       "      <td>2008-03-01 05:00:00</td>\n",
       "      <td>1033.768500</td>\n",
       "      <td>train</td>\n",
       "      <td>1</td>\n",
       "      <td>3</td>\n",
       "      <td>2008</td>\n",
       "      <td>5</td>\n",
       "      <td>5</td>\n",
       "    </tr>\n",
       "    <tr>\n",
       "      <th>7</th>\n",
       "      <td>2008-03-01 06:00:00</td>\n",
       "      <td>1086.780000</td>\n",
       "      <td>train</td>\n",
       "      <td>1</td>\n",
       "      <td>3</td>\n",
       "      <td>2008</td>\n",
       "      <td>6</td>\n",
       "      <td>5</td>\n",
       "    </tr>\n",
       "    <tr>\n",
       "      <th>8</th>\n",
       "      <td>2008-03-01 07:00:00</td>\n",
       "      <td>1211.742000</td>\n",
       "      <td>train</td>\n",
       "      <td>1</td>\n",
       "      <td>3</td>\n",
       "      <td>2008</td>\n",
       "      <td>7</td>\n",
       "      <td>5</td>\n",
       "    </tr>\n",
       "    <tr>\n",
       "      <th>9</th>\n",
       "      <td>2008-03-01 08:00:00</td>\n",
       "      <td>1293.693000</td>\n",
       "      <td>train</td>\n",
       "      <td>1</td>\n",
       "      <td>3</td>\n",
       "      <td>2008</td>\n",
       "      <td>8</td>\n",
       "      <td>5</td>\n",
       "    </tr>\n",
       "    <tr>\n",
       "      <th>10</th>\n",
       "      <td>2008-03-01 09:00:00</td>\n",
       "      <td>1318.915500</td>\n",
       "      <td>train</td>\n",
       "      <td>1</td>\n",
       "      <td>3</td>\n",
       "      <td>2008</td>\n",
       "      <td>9</td>\n",
       "      <td>5</td>\n",
       "    </tr>\n",
       "    <tr>\n",
       "      <th>11</th>\n",
       "      <td>2008-03-01 10:00:00</td>\n",
       "      <td>1337.943000</td>\n",
       "      <td>train</td>\n",
       "      <td>1</td>\n",
       "      <td>3</td>\n",
       "      <td>2008</td>\n",
       "      <td>10</td>\n",
       "      <td>5</td>\n",
       "    </tr>\n",
       "    <tr>\n",
       "      <th>12</th>\n",
       "      <td>2008-03-01 11:00:00</td>\n",
       "      <td>1348.917000</td>\n",
       "      <td>train</td>\n",
       "      <td>1</td>\n",
       "      <td>3</td>\n",
       "      <td>2008</td>\n",
       "      <td>11</td>\n",
       "      <td>5</td>\n",
       "    </tr>\n",
       "    <tr>\n",
       "      <th>13</th>\n",
       "      <td>2008-03-01 12:00:00</td>\n",
       "      <td>1360.687500</td>\n",
       "      <td>train</td>\n",
       "      <td>1</td>\n",
       "      <td>3</td>\n",
       "      <td>2008</td>\n",
       "      <td>12</td>\n",
       "      <td>5</td>\n",
       "    </tr>\n",
       "    <tr>\n",
       "      <th>14</th>\n",
       "      <td>2008-03-01 13:00:00</td>\n",
       "      <td>1363.254000</td>\n",
       "      <td>train</td>\n",
       "      <td>1</td>\n",
       "      <td>3</td>\n",
       "      <td>2008</td>\n",
       "      <td>13</td>\n",
       "      <td>5</td>\n",
       "    </tr>\n",
       "    <tr>\n",
       "      <th>15</th>\n",
       "      <td>2008-03-01 14:00:00</td>\n",
       "      <td>1385.467500</td>\n",
       "      <td>train</td>\n",
       "      <td>1</td>\n",
       "      <td>3</td>\n",
       "      <td>2008</td>\n",
       "      <td>14</td>\n",
       "      <td>5</td>\n",
       "    </tr>\n",
       "    <tr>\n",
       "      <th>16</th>\n",
       "      <td>2008-03-01 15:00:00</td>\n",
       "      <td>1392.901500</td>\n",
       "      <td>train</td>\n",
       "      <td>1</td>\n",
       "      <td>3</td>\n",
       "      <td>2008</td>\n",
       "      <td>15</td>\n",
       "      <td>5</td>\n",
       "    </tr>\n",
       "    <tr>\n",
       "      <th>17</th>\n",
       "      <td>2008-03-01 16:00:00</td>\n",
       "      <td>1392.901500</td>\n",
       "      <td>train</td>\n",
       "      <td>1</td>\n",
       "      <td>3</td>\n",
       "      <td>2008</td>\n",
       "      <td>16</td>\n",
       "      <td>5</td>\n",
       "    </tr>\n",
       "    <tr>\n",
       "      <th>18</th>\n",
       "      <td>2008-03-01 17:00:00</td>\n",
       "      <td>1384.494000</td>\n",
       "      <td>train</td>\n",
       "      <td>1</td>\n",
       "      <td>3</td>\n",
       "      <td>2008</td>\n",
       "      <td>17</td>\n",
       "      <td>5</td>\n",
       "    </tr>\n",
       "    <tr>\n",
       "      <th>19</th>\n",
       "      <td>2008-03-01 18:00:00</td>\n",
       "      <td>1358.740500</td>\n",
       "      <td>train</td>\n",
       "      <td>1</td>\n",
       "      <td>3</td>\n",
       "      <td>2008</td>\n",
       "      <td>18</td>\n",
       "      <td>5</td>\n",
       "    </tr>\n",
       "    <tr>\n",
       "      <th>20</th>\n",
       "      <td>2008-03-01 19:00:00</td>\n",
       "      <td>1330.509000</td>\n",
       "      <td>train</td>\n",
       "      <td>1</td>\n",
       "      <td>3</td>\n",
       "      <td>2008</td>\n",
       "      <td>19</td>\n",
       "      <td>5</td>\n",
       "    </tr>\n",
       "    <tr>\n",
       "      <th>21</th>\n",
       "      <td>2008-03-01 20:00:00</td>\n",
       "      <td>1346.173500</td>\n",
       "      <td>train</td>\n",
       "      <td>1</td>\n",
       "      <td>3</td>\n",
       "      <td>2008</td>\n",
       "      <td>20</td>\n",
       "      <td>5</td>\n",
       "    </tr>\n",
       "    <tr>\n",
       "      <th>22</th>\n",
       "      <td>2008-03-01 21:00:00</td>\n",
       "      <td>1358.386500</td>\n",
       "      <td>train</td>\n",
       "      <td>1</td>\n",
       "      <td>3</td>\n",
       "      <td>2008</td>\n",
       "      <td>21</td>\n",
       "      <td>5</td>\n",
       "    </tr>\n",
       "    <tr>\n",
       "      <th>23</th>\n",
       "      <td>2008-03-01 22:00:00</td>\n",
       "      <td>1313.074500</td>\n",
       "      <td>train</td>\n",
       "      <td>1</td>\n",
       "      <td>3</td>\n",
       "      <td>2008</td>\n",
       "      <td>22</td>\n",
       "      <td>5</td>\n",
       "    </tr>\n",
       "    <tr>\n",
       "      <th>24</th>\n",
       "      <td>2008-03-01 23:00:00</td>\n",
       "      <td>1244.929500</td>\n",
       "      <td>train</td>\n",
       "      <td>1</td>\n",
       "      <td>3</td>\n",
       "      <td>2008</td>\n",
       "      <td>23</td>\n",
       "      <td>5</td>\n",
       "    </tr>\n",
       "    <tr>\n",
       "      <th>25</th>\n",
       "      <td>2008-03-02 00:00:00</td>\n",
       "      <td>1163.509500</td>\n",
       "      <td>train</td>\n",
       "      <td>2</td>\n",
       "      <td>3</td>\n",
       "      <td>2008</td>\n",
       "      <td>0</td>\n",
       "      <td>6</td>\n",
       "    </tr>\n",
       "    <tr>\n",
       "      <th>26</th>\n",
       "      <td>2008-03-02 01:00:00</td>\n",
       "      <td>1085.010000</td>\n",
       "      <td>train</td>\n",
       "      <td>2</td>\n",
       "      <td>3</td>\n",
       "      <td>2008</td>\n",
       "      <td>1</td>\n",
       "      <td>6</td>\n",
       "    </tr>\n",
       "    <tr>\n",
       "      <th>27</th>\n",
       "      <td>2008-03-02 02:00:00</td>\n",
       "      <td>1032.972000</td>\n",
       "      <td>train</td>\n",
       "      <td>2</td>\n",
       "      <td>3</td>\n",
       "      <td>2008</td>\n",
       "      <td>2</td>\n",
       "      <td>6</td>\n",
       "    </tr>\n",
       "    <tr>\n",
       "      <th>28</th>\n",
       "      <td>2008-03-02 03:00:00</td>\n",
       "      <td>1004.652000</td>\n",
       "      <td>train</td>\n",
       "      <td>2</td>\n",
       "      <td>3</td>\n",
       "      <td>2008</td>\n",
       "      <td>3</td>\n",
       "      <td>6</td>\n",
       "    </tr>\n",
       "    <tr>\n",
       "      <th>29</th>\n",
       "      <td>2008-03-02 04:00:00</td>\n",
       "      <td>989.164500</td>\n",
       "      <td>train</td>\n",
       "      <td>2</td>\n",
       "      <td>3</td>\n",
       "      <td>2008</td>\n",
       "      <td>4</td>\n",
       "      <td>6</td>\n",
       "    </tr>\n",
       "    <tr>\n",
       "      <th>30</th>\n",
       "      <td>2008-03-02 05:00:00</td>\n",
       "      <td>986.067000</td>\n",
       "      <td>train</td>\n",
       "      <td>2</td>\n",
       "      <td>3</td>\n",
       "      <td>2008</td>\n",
       "      <td>5</td>\n",
       "      <td>6</td>\n",
       "    </tr>\n",
       "    <tr>\n",
       "      <th>31</th>\n",
       "      <td>2008-03-02 06:00:00</td>\n",
       "      <td>1002.793500</td>\n",
       "      <td>train</td>\n",
       "      <td>2</td>\n",
       "      <td>3</td>\n",
       "      <td>2008</td>\n",
       "      <td>6</td>\n",
       "      <td>6</td>\n",
       "    </tr>\n",
       "    <tr>\n",
       "      <th>32</th>\n",
       "      <td>2008-03-02 07:00:00</td>\n",
       "      <td>1050.141000</td>\n",
       "      <td>train</td>\n",
       "      <td>2</td>\n",
       "      <td>3</td>\n",
       "      <td>2008</td>\n",
       "      <td>7</td>\n",
       "      <td>6</td>\n",
       "    </tr>\n",
       "    <tr>\n",
       "      <th>33</th>\n",
       "      <td>2008-03-02 08:00:00</td>\n",
       "      <td>1096.249500</td>\n",
       "      <td>train</td>\n",
       "      <td>2</td>\n",
       "      <td>3</td>\n",
       "      <td>2008</td>\n",
       "      <td>8</td>\n",
       "      <td>6</td>\n",
       "    </tr>\n",
       "    <tr>\n",
       "      <th>34</th>\n",
       "      <td>2008-03-02 09:00:00</td>\n",
       "      <td>1163.244000</td>\n",
       "      <td>train</td>\n",
       "      <td>2</td>\n",
       "      <td>3</td>\n",
       "      <td>2008</td>\n",
       "      <td>9</td>\n",
       "      <td>6</td>\n",
       "    </tr>\n",
       "    <tr>\n",
       "      <th>35</th>\n",
       "      <td>2008-03-02 10:00:00</td>\n",
       "      <td>1213.512000</td>\n",
       "      <td>train</td>\n",
       "      <td>2</td>\n",
       "      <td>3</td>\n",
       "      <td>2008</td>\n",
       "      <td>10</td>\n",
       "      <td>6</td>\n",
       "    </tr>\n",
       "    <tr>\n",
       "      <th>36</th>\n",
       "      <td>2008-03-02 11:00:00</td>\n",
       "      <td>1246.257000</td>\n",
       "      <td>train</td>\n",
       "      <td>2</td>\n",
       "      <td>3</td>\n",
       "      <td>2008</td>\n",
       "      <td>11</td>\n",
       "      <td>6</td>\n",
       "    </tr>\n",
       "    <tr>\n",
       "      <th>37</th>\n",
       "      <td>2008-03-02 12:00:00</td>\n",
       "      <td>1246.080000</td>\n",
       "      <td>train</td>\n",
       "      <td>2</td>\n",
       "      <td>3</td>\n",
       "      <td>2008</td>\n",
       "      <td>12</td>\n",
       "      <td>6</td>\n",
       "    </tr>\n",
       "    <tr>\n",
       "      <th>38</th>\n",
       "      <td>2008-03-02 13:00:00</td>\n",
       "      <td>1243.956000</td>\n",
       "      <td>train</td>\n",
       "      <td>2</td>\n",
       "      <td>3</td>\n",
       "      <td>2008</td>\n",
       "      <td>13</td>\n",
       "      <td>6</td>\n",
       "    </tr>\n",
       "    <tr>\n",
       "      <th>39</th>\n",
       "      <td>2008-03-02 14:00:00</td>\n",
       "      <td>1233.159000</td>\n",
       "      <td>train</td>\n",
       "      <td>2</td>\n",
       "      <td>3</td>\n",
       "      <td>2008</td>\n",
       "      <td>14</td>\n",
       "      <td>6</td>\n",
       "    </tr>\n",
       "    <tr>\n",
       "      <th>40</th>\n",
       "      <td>2008-03-02 15:00:00</td>\n",
       "      <td>1217.583000</td>\n",
       "      <td>train</td>\n",
       "      <td>2</td>\n",
       "      <td>3</td>\n",
       "      <td>2008</td>\n",
       "      <td>15</td>\n",
       "      <td>6</td>\n",
       "    </tr>\n",
       "    <tr>\n",
       "      <th>41</th>\n",
       "      <td>2008-03-02 16:00:00</td>\n",
       "      <td>1201.741500</td>\n",
       "      <td>train</td>\n",
       "      <td>2</td>\n",
       "      <td>3</td>\n",
       "      <td>2008</td>\n",
       "      <td>16</td>\n",
       "      <td>6</td>\n",
       "    </tr>\n",
       "    <tr>\n",
       "      <th>42</th>\n",
       "      <td>2008-03-02 17:00:00</td>\n",
       "      <td>1205.370000</td>\n",
       "      <td>train</td>\n",
       "      <td>2</td>\n",
       "      <td>3</td>\n",
       "      <td>2008</td>\n",
       "      <td>17</td>\n",
       "      <td>6</td>\n",
       "    </tr>\n",
       "    <tr>\n",
       "      <th>43</th>\n",
       "      <td>2008-03-02 18:00:00</td>\n",
       "      <td>1193.245500</td>\n",
       "      <td>train</td>\n",
       "      <td>2</td>\n",
       "      <td>3</td>\n",
       "      <td>2008</td>\n",
       "      <td>18</td>\n",
       "      <td>6</td>\n",
       "    </tr>\n",
       "    <tr>\n",
       "      <th>44</th>\n",
       "      <td>2008-03-02 19:00:00</td>\n",
       "      <td>1184.041500</td>\n",
       "      <td>train</td>\n",
       "      <td>2</td>\n",
       "      <td>3</td>\n",
       "      <td>2008</td>\n",
       "      <td>19</td>\n",
       "      <td>6</td>\n",
       "    </tr>\n",
       "    <tr>\n",
       "      <th>45</th>\n",
       "      <td>2008-03-02 20:00:00</td>\n",
       "      <td>1223.512500</td>\n",
       "      <td>train</td>\n",
       "      <td>2</td>\n",
       "      <td>3</td>\n",
       "      <td>2008</td>\n",
       "      <td>20</td>\n",
       "      <td>6</td>\n",
       "    </tr>\n",
       "    <tr>\n",
       "      <th>46</th>\n",
       "      <td>2008-03-02 21:00:00</td>\n",
       "      <td>1243.956000</td>\n",
       "      <td>train</td>\n",
       "      <td>2</td>\n",
       "      <td>3</td>\n",
       "      <td>2008</td>\n",
       "      <td>21</td>\n",
       "      <td>6</td>\n",
       "    </tr>\n",
       "    <tr>\n",
       "      <th>47</th>\n",
       "      <td>2008-03-02 22:00:00</td>\n",
       "      <td>1240.327500</td>\n",
       "      <td>train</td>\n",
       "      <td>2</td>\n",
       "      <td>3</td>\n",
       "      <td>2008</td>\n",
       "      <td>22</td>\n",
       "      <td>6</td>\n",
       "    </tr>\n",
       "    <tr>\n",
       "      <th>48</th>\n",
       "      <td>2008-03-02 23:00:00</td>\n",
       "      <td>1145.190000</td>\n",
       "      <td>train</td>\n",
       "      <td>2</td>\n",
       "      <td>3</td>\n",
       "      <td>2008</td>\n",
       "      <td>23</td>\n",
       "      <td>6</td>\n",
       "    </tr>\n",
       "    <tr>\n",
       "      <th>49</th>\n",
       "      <td>2008-03-03 00:00:00</td>\n",
       "      <td>1077.222000</td>\n",
       "      <td>train</td>\n",
       "      <td>3</td>\n",
       "      <td>3</td>\n",
       "      <td>2008</td>\n",
       "      <td>0</td>\n",
       "      <td>0</td>\n",
       "    </tr>\n",
       "    <tr>\n",
       "      <th>50</th>\n",
       "      <td>2008-03-03 01:00:00</td>\n",
       "      <td>1012.705500</td>\n",
       "      <td>train</td>\n",
       "      <td>3</td>\n",
       "      <td>3</td>\n",
       "      <td>2008</td>\n",
       "      <td>1</td>\n",
       "      <td>0</td>\n",
       "    </tr>\n",
       "  </tbody>\n",
       "</table>\n",
       "</div>"
      ],
      "text/plain": [
       "                  datetime       energy source  date  month  year  hour  week\n",
       "row_id                                                                       \n",
       "1      2008-03-01 00:00:00  1259.985563  train     1      3  2008     0     5\n",
       "2      2008-03-01 01:00:00  1095.541500  train     1      3  2008     1     5\n",
       "3      2008-03-01 02:00:00  1056.247500  train     1      3  2008     2     5\n",
       "4      2008-03-01 03:00:00  1034.742000  train     1      3  2008     3     5\n",
       "5      2008-03-01 04:00:00  1026.334500  train     1      3  2008     4     5\n",
       "6      2008-03-01 05:00:00  1033.768500  train     1      3  2008     5     5\n",
       "7      2008-03-01 06:00:00  1086.780000  train     1      3  2008     6     5\n",
       "8      2008-03-01 07:00:00  1211.742000  train     1      3  2008     7     5\n",
       "9      2008-03-01 08:00:00  1293.693000  train     1      3  2008     8     5\n",
       "10     2008-03-01 09:00:00  1318.915500  train     1      3  2008     9     5\n",
       "11     2008-03-01 10:00:00  1337.943000  train     1      3  2008    10     5\n",
       "12     2008-03-01 11:00:00  1348.917000  train     1      3  2008    11     5\n",
       "13     2008-03-01 12:00:00  1360.687500  train     1      3  2008    12     5\n",
       "14     2008-03-01 13:00:00  1363.254000  train     1      3  2008    13     5\n",
       "15     2008-03-01 14:00:00  1385.467500  train     1      3  2008    14     5\n",
       "16     2008-03-01 15:00:00  1392.901500  train     1      3  2008    15     5\n",
       "17     2008-03-01 16:00:00  1392.901500  train     1      3  2008    16     5\n",
       "18     2008-03-01 17:00:00  1384.494000  train     1      3  2008    17     5\n",
       "19     2008-03-01 18:00:00  1358.740500  train     1      3  2008    18     5\n",
       "20     2008-03-01 19:00:00  1330.509000  train     1      3  2008    19     5\n",
       "21     2008-03-01 20:00:00  1346.173500  train     1      3  2008    20     5\n",
       "22     2008-03-01 21:00:00  1358.386500  train     1      3  2008    21     5\n",
       "23     2008-03-01 22:00:00  1313.074500  train     1      3  2008    22     5\n",
       "24     2008-03-01 23:00:00  1244.929500  train     1      3  2008    23     5\n",
       "25     2008-03-02 00:00:00  1163.509500  train     2      3  2008     0     6\n",
       "26     2008-03-02 01:00:00  1085.010000  train     2      3  2008     1     6\n",
       "27     2008-03-02 02:00:00  1032.972000  train     2      3  2008     2     6\n",
       "28     2008-03-02 03:00:00  1004.652000  train     2      3  2008     3     6\n",
       "29     2008-03-02 04:00:00   989.164500  train     2      3  2008     4     6\n",
       "30     2008-03-02 05:00:00   986.067000  train     2      3  2008     5     6\n",
       "31     2008-03-02 06:00:00  1002.793500  train     2      3  2008     6     6\n",
       "32     2008-03-02 07:00:00  1050.141000  train     2      3  2008     7     6\n",
       "33     2008-03-02 08:00:00  1096.249500  train     2      3  2008     8     6\n",
       "34     2008-03-02 09:00:00  1163.244000  train     2      3  2008     9     6\n",
       "35     2008-03-02 10:00:00  1213.512000  train     2      3  2008    10     6\n",
       "36     2008-03-02 11:00:00  1246.257000  train     2      3  2008    11     6\n",
       "37     2008-03-02 12:00:00  1246.080000  train     2      3  2008    12     6\n",
       "38     2008-03-02 13:00:00  1243.956000  train     2      3  2008    13     6\n",
       "39     2008-03-02 14:00:00  1233.159000  train     2      3  2008    14     6\n",
       "40     2008-03-02 15:00:00  1217.583000  train     2      3  2008    15     6\n",
       "41     2008-03-02 16:00:00  1201.741500  train     2      3  2008    16     6\n",
       "42     2008-03-02 17:00:00  1205.370000  train     2      3  2008    17     6\n",
       "43     2008-03-02 18:00:00  1193.245500  train     2      3  2008    18     6\n",
       "44     2008-03-02 19:00:00  1184.041500  train     2      3  2008    19     6\n",
       "45     2008-03-02 20:00:00  1223.512500  train     2      3  2008    20     6\n",
       "46     2008-03-02 21:00:00  1243.956000  train     2      3  2008    21     6\n",
       "47     2008-03-02 22:00:00  1240.327500  train     2      3  2008    22     6\n",
       "48     2008-03-02 23:00:00  1145.190000  train     2      3  2008    23     6\n",
       "49     2008-03-03 00:00:00  1077.222000  train     3      3  2008     0     0\n",
       "50     2008-03-03 01:00:00  1012.705500  train     3      3  2008     1     0"
      ]
     },
     "execution_count": 15,
     "metadata": {},
     "output_type": "execute_result"
    }
   ],
   "source": [
    "df.head(50)"
   ]
  },
  {
   "cell_type": "code",
   "execution_count": 16,
   "id": "3df362b5",
   "metadata": {
    "colab": {
     "base_uri": "https://localhost:8080/"
    },
    "id": "3df362b5",
    "outputId": "ec228bde-dfa2-484e-f995-37806aee6c75"
   },
   "outputs": [
    {
     "data": {
      "text/plain": [
       "12"
      ]
     },
     "execution_count": 16,
     "metadata": {},
     "output_type": "execute_result"
    }
   ],
   "source": [
    "df.month.nunique()"
   ]
  },
  {
   "cell_type": "code",
   "execution_count": 17,
   "id": "d2a29ff8",
   "metadata": {
    "colab": {
     "base_uri": "https://localhost:8080/"
    },
    "id": "d2a29ff8",
    "outputId": "43b32328-c991-4556-dc2d-79df44c74d52"
   },
   "outputs": [
    {
     "data": {
      "text/plain": [
       "31"
      ]
     },
     "execution_count": 17,
     "metadata": {},
     "output_type": "execute_result"
    }
   ],
   "source": [
    "df.date.nunique()"
   ]
  },
  {
   "cell_type": "code",
   "execution_count": 18,
   "id": "cdea2570",
   "metadata": {
    "colab": {
     "base_uri": "https://localhost:8080/"
    },
    "id": "cdea2570",
    "outputId": "25e134f5-dfd4-4fd1-833d-fc79425f7e18"
   },
   "outputs": [
    {
     "data": {
      "text/plain": [
       "24"
      ]
     },
     "execution_count": 18,
     "metadata": {},
     "output_type": "execute_result"
    }
   ],
   "source": [
    "df.hour.nunique()"
   ]
  },
  {
   "cell_type": "code",
   "execution_count": 19,
   "id": "2ad7bb27",
   "metadata": {
    "colab": {
     "base_uri": "https://localhost:8080/"
    },
    "id": "2ad7bb27",
    "outputId": "4d9e5673-34d7-405c-b493-41c919136d88"
   },
   "outputs": [
    {
     "data": {
      "text/plain": [
       "14"
      ]
     },
     "execution_count": 19,
     "metadata": {},
     "output_type": "execute_result"
    }
   ],
   "source": [
    "df.year.nunique()"
   ]
  },
  {
   "cell_type": "code",
   "execution_count": 20,
   "id": "ef8870a3",
   "metadata": {
    "colab": {
     "base_uri": "https://localhost:8080/"
    },
    "id": "ef8870a3",
    "outputId": "9bf161d1-36de-4349-b117-26ad3a627b2f",
    "scrolled": false
   },
   "outputs": [
    {
     "data": {
      "text/plain": [
       "7"
      ]
     },
     "execution_count": 20,
     "metadata": {},
     "output_type": "execute_result"
    }
   ],
   "source": [
    "df.week.nunique()"
   ]
  },
  {
   "cell_type": "markdown",
   "id": "6bad9dcb",
   "metadata": {},
   "source": [
    "## Plotting the newly created features against the energy demand"
   ]
  },
  {
   "cell_type": "code",
   "execution_count": 21,
   "id": "3685b4c9",
   "metadata": {
    "colab": {
     "base_uri": "https://localhost:8080/",
     "height": 313
    },
    "id": "3685b4c9",
    "outputId": "0200ebeb-2d6c-4e11-a1c4-8842ac34be42",
    "scrolled": false
   },
   "outputs": [
    {
     "data": {
      "text/plain": [
       "Text(0.5, 1.0, 'Month vs Energy')"
      ]
     },
     "execution_count": 21,
     "metadata": {},
     "output_type": "execute_result"
    },
    {
     "data": {
      "image/png": "[encoded data removed]",
      "text/plain": [
       "<Figure size 432x288 with 1 Axes>"
      ]
     },
     "metadata": {
      "needs_background": "light"
     },
     "output_type": "display_data"
    }
   ],
   "source": [
    "sns.lineplot(x = df.month, y = df.energy, hue = df.year)\n",
    "plt.title('Month vs Energy')"
   ]
  },
  {
   "cell_type": "code",
   "execution_count": 22,
   "id": "e0b8d9bd",
   "metadata": {},
   "outputs": [],
   "source": [
    "#We see that the trend of energy demand for the months of 6 & 7 is high and 3 & 10 is low "
   ]
  },
  {
   "cell_type": "code",
   "execution_count": 23,
   "id": "34f9d881",
   "metadata": {
    "colab": {
     "base_uri": "https://localhost:8080/",
     "height": 349
    },
    "id": "34f9d881",
    "outputId": "6730bd90-bfed-496a-d01a-3cf86a440af2",
    "scrolled": false
   },
   "outputs": [
    {
     "data": {
      "image/png": "[encoded data removed]",
      "text/plain": [
       "<Figure size 720x360 with 1 Axes>"
      ]
     },
     "metadata": {
      "needs_background": "light"
     },
     "output_type": "display_data"
    }
   ],
   "source": [
    "plt.figure(figsize = (10,5))\n",
    "sns.barplot(x = df.year, y = df.energy, hue = df.month)\n",
    "plt.xticks(rotation = 90)\n",
    "plt.show()"
   ]
  },
  {
   "cell_type": "code",
   "execution_count": 24,
   "id": "d0d8d926",
   "metadata": {
    "colab": {
     "base_uri": "https://localhost:8080/"
    },
    "id": "d0d8d926",
    "outputId": "fa0b44dd-23cf-4f83-c7f7-3c28bf18e4fb",
    "scrolled": true
   },
   "outputs": [
    {
     "data": {
      "text/plain": [
       "datetime    0\n",
       "energy      0\n",
       "source      0\n",
       "dtype: int64"
      ]
     },
     "execution_count": 24,
     "metadata": {},
     "output_type": "execute_result"
    }
   ],
   "source": [
    "train.isna().sum()"
   ]
  },
  {
   "cell_type": "markdown",
   "id": "db059bab",
   "metadata": {},
   "source": [
    "# Importing neccessary libraries for the model"
   ]
  },
  {
   "cell_type": "code",
   "execution_count": 25,
   "id": "3442a647",
   "metadata": {
    "id": "3442a647"
   },
   "outputs": [],
   "source": [
    "from sklearn.metrics import r2_score, mean_squared_error\n",
    "from sklearn.linear_model import LinearRegression\n",
    "from sklearn.preprocessing import StandardScaler, PolynomialFeatures\n",
    "from sklearn.model_selection import train_test_split"
   ]
  },
  {
   "cell_type": "code",
   "execution_count": 26,
   "id": "01a8f285",
   "metadata": {
    "colab": {
     "base_uri": "https://localhost:8080/",
     "height": 455
    },
    "id": "01a8f285",
    "outputId": "8abb952b-bfc8-4380-bb9e-2db33cf96716",
    "scrolled": false
   },
   "outputs": [
    {
     "data": {
      "text/html": [
       "<div>\n",
       "<style scoped>\n",
       "    .dataframe tbody tr th:only-of-type {\n",
       "        vertical-align: middle;\n",
       "    }\n",
       "\n",
       "    .dataframe tbody tr th {\n",
       "        vertical-align: top;\n",
       "    }\n",
       "\n",
       "    .dataframe thead th {\n",
       "        text-align: right;\n",
       "    }\n",
       "</style>\n",
       "<table border=\"1\" class=\"dataframe\">\n",
       "  <thead>\n",
       "    <tr style=\"text-align: right;\">\n",
       "      <th></th>\n",
       "      <th>date</th>\n",
       "      <th>month</th>\n",
       "      <th>year</th>\n",
       "      <th>hour</th>\n",
       "      <th>week</th>\n",
       "    </tr>\n",
       "    <tr>\n",
       "      <th>row_id</th>\n",
       "      <th></th>\n",
       "      <th></th>\n",
       "      <th></th>\n",
       "      <th></th>\n",
       "      <th></th>\n",
       "    </tr>\n",
       "  </thead>\n",
       "  <tbody>\n",
       "    <tr>\n",
       "      <th>1</th>\n",
       "      <td>1</td>\n",
       "      <td>3</td>\n",
       "      <td>2008</td>\n",
       "      <td>0</td>\n",
       "      <td>5</td>\n",
       "    </tr>\n",
       "    <tr>\n",
       "      <th>2</th>\n",
       "      <td>1</td>\n",
       "      <td>3</td>\n",
       "      <td>2008</td>\n",
       "      <td>1</td>\n",
       "      <td>5</td>\n",
       "    </tr>\n",
       "    <tr>\n",
       "      <th>3</th>\n",
       "      <td>1</td>\n",
       "      <td>3</td>\n",
       "      <td>2008</td>\n",
       "      <td>2</td>\n",
       "      <td>5</td>\n",
       "    </tr>\n",
       "    <tr>\n",
       "      <th>4</th>\n",
       "      <td>1</td>\n",
       "      <td>3</td>\n",
       "      <td>2008</td>\n",
       "      <td>3</td>\n",
       "      <td>5</td>\n",
       "    </tr>\n",
       "    <tr>\n",
       "      <th>5</th>\n",
       "      <td>1</td>\n",
       "      <td>3</td>\n",
       "      <td>2008</td>\n",
       "      <td>4</td>\n",
       "      <td>5</td>\n",
       "    </tr>\n",
       "    <tr>\n",
       "      <th>...</th>\n",
       "      <td>...</td>\n",
       "      <td>...</td>\n",
       "      <td>...</td>\n",
       "      <td>...</td>\n",
       "      <td>...</td>\n",
       "    </tr>\n",
       "    <tr>\n",
       "      <th>94988</th>\n",
       "      <td>31</td>\n",
       "      <td>12</td>\n",
       "      <td>2018</td>\n",
       "      <td>19</td>\n",
       "      <td>0</td>\n",
       "    </tr>\n",
       "    <tr>\n",
       "      <th>94989</th>\n",
       "      <td>31</td>\n",
       "      <td>12</td>\n",
       "      <td>2018</td>\n",
       "      <td>20</td>\n",
       "      <td>0</td>\n",
       "    </tr>\n",
       "    <tr>\n",
       "      <th>94990</th>\n",
       "      <td>31</td>\n",
       "      <td>12</td>\n",
       "      <td>2018</td>\n",
       "      <td>21</td>\n",
       "      <td>0</td>\n",
       "    </tr>\n",
       "    <tr>\n",
       "      <th>94991</th>\n",
       "      <td>31</td>\n",
       "      <td>12</td>\n",
       "      <td>2018</td>\n",
       "      <td>22</td>\n",
       "      <td>0</td>\n",
       "    </tr>\n",
       "    <tr>\n",
       "      <th>94992</th>\n",
       "      <td>31</td>\n",
       "      <td>12</td>\n",
       "      <td>2018</td>\n",
       "      <td>23</td>\n",
       "      <td>0</td>\n",
       "    </tr>\n",
       "  </tbody>\n",
       "</table>\n",
       "<p>93092 rows × 5 columns</p>\n",
       "</div>"
      ],
      "text/plain": [
       "        date  month  year  hour  week\n",
       "row_id                               \n",
       "1          1      3  2008     0     5\n",
       "2          1      3  2008     1     5\n",
       "3          1      3  2008     2     5\n",
       "4          1      3  2008     3     5\n",
       "5          1      3  2008     4     5\n",
       "...      ...    ...   ...   ...   ...\n",
       "94988     31     12  2018    19     0\n",
       "94989     31     12  2018    20     0\n",
       "94990     31     12  2018    21     0\n",
       "94991     31     12  2018    22     0\n",
       "94992     31     12  2018    23     0\n",
       "\n",
       "[93092 rows x 5 columns]"
      ]
     },
     "execution_count": 26,
     "metadata": {},
     "output_type": "execute_result"
    }
   ],
   "source": [
    "X = df[df['source']== 'train'].drop(columns = ['energy', 'source', 'datetime'])\n",
    "X"
   ]
  },
  {
   "cell_type": "code",
   "execution_count": 27,
   "id": "9f048e4c",
   "metadata": {
    "colab": {
     "base_uri": "https://localhost:8080/",
     "height": 455
    },
    "id": "9f048e4c",
    "outputId": "a1453c78-6224-49a2-f36c-4b7d98db8890"
   },
   "outputs": [
    {
     "data": {
      "text/html": [
       "<div>\n",
       "<style scoped>\n",
       "    .dataframe tbody tr th:only-of-type {\n",
       "        vertical-align: middle;\n",
       "    }\n",
       "\n",
       "    .dataframe tbody tr th {\n",
       "        vertical-align: top;\n",
       "    }\n",
       "\n",
       "    .dataframe thead th {\n",
       "        text-align: right;\n",
       "    }\n",
       "</style>\n",
       "<table border=\"1\" class=\"dataframe\">\n",
       "  <thead>\n",
       "    <tr style=\"text-align: right;\">\n",
       "      <th></th>\n",
       "      <th>date</th>\n",
       "      <th>month</th>\n",
       "      <th>year</th>\n",
       "      <th>hour</th>\n",
       "      <th>week</th>\n",
       "    </tr>\n",
       "    <tr>\n",
       "      <th>row_id</th>\n",
       "      <th></th>\n",
       "      <th></th>\n",
       "      <th></th>\n",
       "      <th></th>\n",
       "      <th></th>\n",
       "    </tr>\n",
       "  </thead>\n",
       "  <tbody>\n",
       "    <tr>\n",
       "      <th>94993</th>\n",
       "      <td>1</td>\n",
       "      <td>1</td>\n",
       "      <td>2019</td>\n",
       "      <td>0</td>\n",
       "      <td>1</td>\n",
       "    </tr>\n",
       "    <tr>\n",
       "      <th>94994</th>\n",
       "      <td>1</td>\n",
       "      <td>1</td>\n",
       "      <td>2019</td>\n",
       "      <td>1</td>\n",
       "      <td>1</td>\n",
       "    </tr>\n",
       "    <tr>\n",
       "      <th>94995</th>\n",
       "      <td>1</td>\n",
       "      <td>1</td>\n",
       "      <td>2019</td>\n",
       "      <td>2</td>\n",
       "      <td>1</td>\n",
       "    </tr>\n",
       "    <tr>\n",
       "      <th>94996</th>\n",
       "      <td>1</td>\n",
       "      <td>1</td>\n",
       "      <td>2019</td>\n",
       "      <td>3</td>\n",
       "      <td>1</td>\n",
       "    </tr>\n",
       "    <tr>\n",
       "      <th>94997</th>\n",
       "      <td>1</td>\n",
       "      <td>1</td>\n",
       "      <td>2019</td>\n",
       "      <td>4</td>\n",
       "      <td>1</td>\n",
       "    </tr>\n",
       "    <tr>\n",
       "      <th>...</th>\n",
       "      <td>...</td>\n",
       "      <td>...</td>\n",
       "      <td>...</td>\n",
       "      <td>...</td>\n",
       "      <td>...</td>\n",
       "    </tr>\n",
       "    <tr>\n",
       "      <th>121292</th>\n",
       "      <td>31</td>\n",
       "      <td>12</td>\n",
       "      <td>2021</td>\n",
       "      <td>19</td>\n",
       "      <td>4</td>\n",
       "    </tr>\n",
       "    <tr>\n",
       "      <th>121293</th>\n",
       "      <td>31</td>\n",
       "      <td>12</td>\n",
       "      <td>2021</td>\n",
       "      <td>20</td>\n",
       "      <td>4</td>\n",
       "    </tr>\n",
       "    <tr>\n",
       "      <th>121294</th>\n",
       "      <td>31</td>\n",
       "      <td>12</td>\n",
       "      <td>2021</td>\n",
       "      <td>21</td>\n",
       "      <td>4</td>\n",
       "    </tr>\n",
       "    <tr>\n",
       "      <th>121295</th>\n",
       "      <td>31</td>\n",
       "      <td>12</td>\n",
       "      <td>2021</td>\n",
       "      <td>22</td>\n",
       "      <td>4</td>\n",
       "    </tr>\n",
       "    <tr>\n",
       "      <th>121296</th>\n",
       "      <td>31</td>\n",
       "      <td>12</td>\n",
       "      <td>2021</td>\n",
       "      <td>23</td>\n",
       "      <td>4</td>\n",
       "    </tr>\n",
       "  </tbody>\n",
       "</table>\n",
       "<p>26304 rows × 5 columns</p>\n",
       "</div>"
      ],
      "text/plain": [
       "        date  month  year  hour  week\n",
       "row_id                               \n",
       "94993      1      1  2019     0     1\n",
       "94994      1      1  2019     1     1\n",
       "94995      1      1  2019     2     1\n",
       "94996      1      1  2019     3     1\n",
       "94997      1      1  2019     4     1\n",
       "...      ...    ...   ...   ...   ...\n",
       "121292    31     12  2021    19     4\n",
       "121293    31     12  2021    20     4\n",
       "121294    31     12  2021    21     4\n",
       "121295    31     12  2021    22     4\n",
       "121296    31     12  2021    23     4\n",
       "\n",
       "[26304 rows x 5 columns]"
      ]
     },
     "execution_count": 27,
     "metadata": {},
     "output_type": "execute_result"
    }
   ],
   "source": [
    "final_X = df[df['source']== 'test'].drop(columns = ['energy', 'source', 'datetime'])\n",
    "final_X"
   ]
  },
  {
   "cell_type": "code",
   "execution_count": 28,
   "id": "6a6a0875",
   "metadata": {
    "colab": {
     "base_uri": "https://localhost:8080/"
    },
    "id": "6a6a0875",
    "outputId": "71260570-6802-4850-8bfe-6a574a54cec3"
   },
   "outputs": [
    {
     "data": {
      "text/plain": [
       "row_id\n",
       "1        1259.985563\n",
       "2        1095.541500\n",
       "3        1056.247500\n",
       "4        1034.742000\n",
       "5        1026.334500\n",
       "            ...     \n",
       "94988    2528.446800\n",
       "94989    2461.883600\n",
       "94990    2365.994400\n",
       "94991    2342.942800\n",
       "94992    2180.217600\n",
       "Name: energy, Length: 93092, dtype: float64"
      ]
     },
     "execution_count": 28,
     "metadata": {},
     "output_type": "execute_result"
    }
   ],
   "source": [
    "y = train.energy\n",
    "y"
   ]
  },
  {
   "cell_type": "code",
   "execution_count": 29,
   "id": "890c0d62",
   "metadata": {},
   "outputs": [],
   "source": [
    "#The train and test data is split with test size as 15% of the total train data."
   ]
  },
  {
   "cell_type": "code",
   "execution_count": 30,
   "id": "039b3cf8",
   "metadata": {
    "colab": {
     "base_uri": "https://localhost:8080/"
    },
    "id": "039b3cf8",
    "outputId": "c5a43988-1618-453d-bbc7-26395dccf004"
   },
   "outputs": [
    {
     "data": {
      "text/plain": [
       "((79128, 5), (13964, 5), (79128,), (13964,))"
      ]
     },
     "execution_count": 30,
     "metadata": {},
     "output_type": "execute_result"
    }
   ],
   "source": [
    "X_train, X_test, y_train, y_test = train_test_split(X,y , test_size = 0.15, random_state = 42)\n",
    "X_train.shape, X_test.shape,y_train.shape, y_test.shape"
   ]
  },
  {
   "cell_type": "code",
   "execution_count": 31,
   "id": "c2b795c8",
   "metadata": {},
   "outputs": [],
   "source": [
    "#The data is non - linear in nature so decided to move forward with a higher degree of polynomial along with linear regression"
   ]
  },
  {
   "cell_type": "code",
   "execution_count": 32,
   "id": "47d05974",
   "metadata": {
    "id": "47d05974"
   },
   "outputs": [],
   "source": [
    "poly= PolynomialFeatures(degree=7, include_bias=False)"
   ]
  },
  {
   "cell_type": "code",
   "execution_count": 33,
   "id": "aeb440c2",
   "metadata": {
    "id": "aeb440c2"
   },
   "outputs": [],
   "source": [
    "poly_x = poly.fit_transform(X_train)"
   ]
  },
  {
   "cell_type": "code",
   "execution_count": 34,
   "id": "2610060d",
   "metadata": {
    "id": "2610060d"
   },
   "outputs": [],
   "source": [
    "poly_model = LinearRegression()"
   ]
  },
  {
   "cell_type": "code",
   "execution_count": 35,
   "id": "c48100a7",
   "metadata": {
    "colab": {
     "base_uri": "https://localhost:8080/"
    },
    "id": "c48100a7",
    "outputId": "7ef7bbd8-c8bd-47f5-942e-547e049dcd5b"
   },
   "outputs": [
    {
     "data": {
      "text/plain": [
       "LinearRegression()"
      ]
     },
     "execution_count": 35,
     "metadata": {},
     "output_type": "execute_result"
    }
   ],
   "source": [
    "poly_model.fit(poly_x, y_train)"
   ]
  },
  {
   "cell_type": "code",
   "execution_count": 36,
   "id": "5a3ed3ee",
   "metadata": {
    "id": "5a3ed3ee"
   },
   "outputs": [],
   "source": [
    "poly_predict = poly_model.predict(poly_x)"
   ]
  },
  {
   "cell_type": "code",
   "execution_count": 37,
   "id": "ec247017",
   "metadata": {
    "colab": {
     "base_uri": "https://localhost:8080/",
     "height": 302
    },
    "id": "ec247017",
    "outputId": "36afb046-1429-444a-a5ec-1601eee8ffbd"
   },
   "outputs": [
    {
     "data": {
      "text/plain": [
       "[<matplotlib.lines.Line2D at 0x1c72bcd8040>]"
      ]
     },
     "execution_count": 37,
     "metadata": {},
     "output_type": "execute_result"
    },
    {
     "data": {
      "image/png": "[encoded data removed]",
      "text/plain": [
       "<Figure size 432x288 with 1 Axes>"
      ]
     },
     "metadata": {
      "needs_background": "light"
     },
     "output_type": "display_data"
    }
   ],
   "source": [
    "sns.lineplot(data = train,x = 'row_id', y = 'energy')\n",
    "plt.plot(poly_predict, color = 'red')"
   ]
  },
  {
   "cell_type": "code",
   "execution_count": 38,
   "id": "34cae46c",
   "metadata": {
    "colab": {
     "base_uri": "https://localhost:8080/"
    },
    "id": "34cae46c",
    "outputId": "a5ce095e-9d64-403e-a3db-f58ffe3b9d4b"
   },
   "outputs": [
    {
     "data": {
      "text/plain": [
       "array([1985.02584618, 1899.71852082, 1434.99406976, ..., 2075.02220505,\n",
       "       1287.03481072, 1967.59783334])"
      ]
     },
     "execution_count": 38,
     "metadata": {},
     "output_type": "execute_result"
    }
   ],
   "source": [
    "poly_predict"
   ]
  },
  {
   "cell_type": "code",
   "execution_count": 39,
   "id": "68588d47",
   "metadata": {
    "colab": {
     "base_uri": "https://localhost:8080/"
    },
    "id": "68588d47",
    "outputId": "e6303330-5485-4bba-b761-272dac2a138b"
   },
   "outputs": [
    {
     "data": {
      "text/plain": [
       "163.09173576403182"
      ]
     },
     "execution_count": 39,
     "metadata": {},
     "output_type": "execute_result"
    }
   ],
   "source": [
    "mean_squared_error(y_train, poly_predict, squared = False)# finding the RMSE error "
   ]
  },
  {
   "cell_type": "code",
   "execution_count": 40,
   "id": "a23a60e2",
   "metadata": {
    "id": "a23a60e2"
   },
   "outputs": [],
   "source": [
    "poly_Xtest = poly.fit_transform(X_test)"
   ]
  },
  {
   "cell_type": "code",
   "execution_count": 41,
   "id": "e0669fca",
   "metadata": {
    "id": "e0669fca"
   },
   "outputs": [],
   "source": [
    "y_poly_test = poly_model.predict(poly_Xtest)"
   ]
  },
  {
   "cell_type": "code",
   "execution_count": 42,
   "id": "2de2b6d6",
   "metadata": {
    "colab": {
     "base_uri": "https://localhost:8080/"
    },
    "id": "2de2b6d6",
    "outputId": "142b99da-1aac-4857-89ec-e6640593399c"
   },
   "outputs": [
    {
     "data": {
      "text/plain": [
       "163.683313120217"
      ]
     },
     "execution_count": 42,
     "metadata": {},
     "output_type": "execute_result"
    }
   ],
   "source": [
    "mean_squared_error(y_test, y_poly_test, squared = False)"
   ]
  },
  {
   "cell_type": "code",
   "execution_count": 43,
   "id": "PHnywLniyzC9",
   "metadata": {
    "id": "PHnywLniyzC9"
   },
   "outputs": [],
   "source": [
    "poly_final_X = poly.fit_transform(final_X)"
   ]
  },
  {
   "cell_type": "code",
   "execution_count": 44,
   "id": "198dc216",
   "metadata": {
    "id": "198dc216"
   },
   "outputs": [],
   "source": [
    "final_y = poly_model.predict(poly_final_X)"
   ]
  },
  {
   "cell_type": "code",
   "execution_count": 45,
   "id": "9e03e842",
   "metadata": {
    "colab": {
     "base_uri": "https://localhost:8080/"
    },
    "id": "9e03e842",
    "outputId": "37e9a653-3112-4639-9b9c-7123f8b0929f"
   },
   "outputs": [
    {
     "data": {
      "text/plain": [
       "array([1794.81892747, 1596.80669945, 1474.52430791, ..., 1958.89436215,\n",
       "       1824.32990235, 1601.05165261])"
      ]
     },
     "execution_count": 45,
     "metadata": {},
     "output_type": "execute_result"
    }
   ],
   "source": [
    "final_y"
   ]
  },
  {
   "cell_type": "code",
   "execution_count": 46,
   "id": "d4d6dba8",
   "metadata": {
    "colab": {
     "base_uri": "https://localhost:8080/",
     "height": 423
    },
    "id": "d4d6dba8",
    "outputId": "ef3cb6af-ec86-458c-f45e-0ac8ce6fdc92"
   },
   "outputs": [
    {
     "data": {
      "text/html": [
       "<div>\n",
       "<style scoped>\n",
       "    .dataframe tbody tr th:only-of-type {\n",
       "        vertical-align: middle;\n",
       "    }\n",
       "\n",
       "    .dataframe tbody tr th {\n",
       "        vertical-align: top;\n",
       "    }\n",
       "\n",
       "    .dataframe thead th {\n",
       "        text-align: right;\n",
       "    }\n",
       "</style>\n",
       "<table border=\"1\" class=\"dataframe\">\n",
       "  <thead>\n",
       "    <tr style=\"text-align: right;\">\n",
       "      <th></th>\n",
       "      <th>row_id</th>\n",
       "      <th>energy</th>\n",
       "    </tr>\n",
       "  </thead>\n",
       "  <tbody>\n",
       "    <tr>\n",
       "      <th>0</th>\n",
       "      <td>94993</td>\n",
       "      <td>1702.995014</td>\n",
       "    </tr>\n",
       "    <tr>\n",
       "      <th>1</th>\n",
       "      <td>94994</td>\n",
       "      <td>1702.995014</td>\n",
       "    </tr>\n",
       "    <tr>\n",
       "      <th>2</th>\n",
       "      <td>94995</td>\n",
       "      <td>1702.995014</td>\n",
       "    </tr>\n",
       "    <tr>\n",
       "      <th>3</th>\n",
       "      <td>94996</td>\n",
       "      <td>1702.995014</td>\n",
       "    </tr>\n",
       "    <tr>\n",
       "      <th>4</th>\n",
       "      <td>94997</td>\n",
       "      <td>1702.995014</td>\n",
       "    </tr>\n",
       "    <tr>\n",
       "      <th>...</th>\n",
       "      <td>...</td>\n",
       "      <td>...</td>\n",
       "    </tr>\n",
       "    <tr>\n",
       "      <th>26299</th>\n",
       "      <td>121292</td>\n",
       "      <td>1702.995014</td>\n",
       "    </tr>\n",
       "    <tr>\n",
       "      <th>26300</th>\n",
       "      <td>121293</td>\n",
       "      <td>1702.995014</td>\n",
       "    </tr>\n",
       "    <tr>\n",
       "      <th>26301</th>\n",
       "      <td>121294</td>\n",
       "      <td>1702.995014</td>\n",
       "    </tr>\n",
       "    <tr>\n",
       "      <th>26302</th>\n",
       "      <td>121295</td>\n",
       "      <td>1702.995014</td>\n",
       "    </tr>\n",
       "    <tr>\n",
       "      <th>26303</th>\n",
       "      <td>121296</td>\n",
       "      <td>1702.995014</td>\n",
       "    </tr>\n",
       "  </tbody>\n",
       "</table>\n",
       "<p>26304 rows × 2 columns</p>\n",
       "</div>"
      ],
      "text/plain": [
       "       row_id       energy\n",
       "0       94993  1702.995014\n",
       "1       94994  1702.995014\n",
       "2       94995  1702.995014\n",
       "3       94996  1702.995014\n",
       "4       94997  1702.995014\n",
       "...       ...          ...\n",
       "26299  121292  1702.995014\n",
       "26300  121293  1702.995014\n",
       "26301  121294  1702.995014\n",
       "26302  121295  1702.995014\n",
       "26303  121296  1702.995014\n",
       "\n",
       "[26304 rows x 2 columns]"
      ]
     },
     "execution_count": 46,
     "metadata": {},
     "output_type": "execute_result"
    }
   ],
   "source": [
    "sample"
   ]
  },
  {
   "cell_type": "code",
   "execution_count": 47,
   "id": "ef8b1273",
   "metadata": {
    "id": "ef8b1273"
   },
   "outputs": [],
   "source": [
    "sample['energy'] = final_y"
   ]
  },
  {
   "cell_type": "code",
   "execution_count": 48,
   "id": "fa722677",
   "metadata": {
    "colab": {
     "base_uri": "https://localhost:8080/",
     "height": 423
    },
    "id": "fa722677",
    "outputId": "a8667619-b61e-4c50-b622-dac3a959aa0f",
    "scrolled": true
   },
   "outputs": [
    {
     "data": {
      "text/html": [
       "<div>\n",
       "<style scoped>\n",
       "    .dataframe tbody tr th:only-of-type {\n",
       "        vertical-align: middle;\n",
       "    }\n",
       "\n",
       "    .dataframe tbody tr th {\n",
       "        vertical-align: top;\n",
       "    }\n",
       "\n",
       "    .dataframe thead th {\n",
       "        text-align: right;\n",
       "    }\n",
       "</style>\n",
       "<table border=\"1\" class=\"dataframe\">\n",
       "  <thead>\n",
       "    <tr style=\"text-align: right;\">\n",
       "      <th></th>\n",
       "      <th>row_id</th>\n",
       "      <th>energy</th>\n",
       "    </tr>\n",
       "  </thead>\n",
       "  <tbody>\n",
       "    <tr>\n",
       "      <th>0</th>\n",
       "      <td>94993</td>\n",
       "      <td>1794.818927</td>\n",
       "    </tr>\n",
       "    <tr>\n",
       "      <th>1</th>\n",
       "      <td>94994</td>\n",
       "      <td>1596.806699</td>\n",
       "    </tr>\n",
       "    <tr>\n",
       "      <th>2</th>\n",
       "      <td>94995</td>\n",
       "      <td>1474.524308</td>\n",
       "    </tr>\n",
       "    <tr>\n",
       "      <th>3</th>\n",
       "      <td>94996</td>\n",
       "      <td>1420.542302</td>\n",
       "    </tr>\n",
       "    <tr>\n",
       "      <th>4</th>\n",
       "      <td>94997</td>\n",
       "      <td>1424.202153</td>\n",
       "    </tr>\n",
       "    <tr>\n",
       "      <th>...</th>\n",
       "      <td>...</td>\n",
       "      <td>...</td>\n",
       "    </tr>\n",
       "    <tr>\n",
       "      <th>26299</th>\n",
       "      <td>121292</td>\n",
       "      <td>2084.674687</td>\n",
       "    </tr>\n",
       "    <tr>\n",
       "      <th>26300</th>\n",
       "      <td>121293</td>\n",
       "      <td>2038.365040</td>\n",
       "    </tr>\n",
       "    <tr>\n",
       "      <th>26301</th>\n",
       "      <td>121294</td>\n",
       "      <td>1958.894362</td>\n",
       "    </tr>\n",
       "    <tr>\n",
       "      <th>26302</th>\n",
       "      <td>121295</td>\n",
       "      <td>1824.329902</td>\n",
       "    </tr>\n",
       "    <tr>\n",
       "      <th>26303</th>\n",
       "      <td>121296</td>\n",
       "      <td>1601.051653</td>\n",
       "    </tr>\n",
       "  </tbody>\n",
       "</table>\n",
       "<p>26304 rows × 2 columns</p>\n",
       "</div>"
      ],
      "text/plain": [
       "       row_id       energy\n",
       "0       94993  1794.818927\n",
       "1       94994  1596.806699\n",
       "2       94995  1474.524308\n",
       "3       94996  1420.542302\n",
       "4       94997  1424.202153\n",
       "...       ...          ...\n",
       "26299  121292  2084.674687\n",
       "26300  121293  2038.365040\n",
       "26301  121294  1958.894362\n",
       "26302  121295  1824.329902\n",
       "26303  121296  1601.051653\n",
       "\n",
       "[26304 rows x 2 columns]"
      ]
     },
     "execution_count": 48,
     "metadata": {},
     "output_type": "execute_result"
    }
   ],
   "source": [
    "sample"
   ]
  },
  {
   "cell_type": "code",
   "execution_count": 49,
   "id": "255b38a9",
   "metadata": {
    "id": "255b38a9"
   },
   "outputs": [],
   "source": [
    "sample.to_csv(\"poly.csv\", index= False)"
   ]
  },
  {
   "cell_type": "code",
   "execution_count": null,
   "id": "WDk5U0gBz-ZZ",
   "metadata": {
    "id": "WDk5U0gBz-ZZ"
   },
   "outputs": [],
   "source": []
  }
 ],
 "metadata": {
  "colab": {
   "provenance": []
  },
  "kernelspec": {
   "display_name": "Python 3 (ipykernel)",
   "language": "python",
   "name": "python3"
  },
  "language_info": {
   "codemirror_mode": {
    "name": "ipython",
    "version": 3
   },
   "file_extension": ".py",
   "mimetype": "text/x-python",
   "name": "python",
   "nbconvert_exporter": "python",
   "pygments_lexer": "ipython3",
   "version": "3.9.12"
  }
 },
 "nbformat": 4,
 "nbformat_minor": 5
}
