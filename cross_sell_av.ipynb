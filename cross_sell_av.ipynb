{
  "metadata": {
    "kernelspec": {
      "language": "python",
      "display_name": "Python 3",
      "name": "python3"
    },
    "language_info": {
      "name": "python",
      "version": "3.7.12",
      "mimetype": "text/x-python",
      "codemirror_mode": {
        "name": "ipython",
        "version": 3
      },
      "pygments_lexer": "ipython3",
      "nbconvert_exporter": "python",
      "file_extension": ".py"
    },
    "colab": {
      "provenance": [],
      "include_colab_link": true
    }
  },
  "nbformat_minor": 0,
  "nbformat": 4,
  "cells": [
    {
      "cell_type": "markdown",
      "metadata": {
        "id": "view-in-github",
        "colab_type": "text"
      },
      "source": [
        "<a href=\"https://colab.research.google.com/github/dansek-dj/AnalyticsVidya/blob/main/cross_sell_av.ipynb\" target=\"_parent\"><img src=\"https://colab.research.google.com/assets/colab-badge.svg\" alt=\"Open In Colab\"/></a>"
      ]
    },
    {
      "cell_type": "code",
      "source": [
        "import numpy as np # linear algebra\n",
        "import pandas as pd # data processing, CSV file I/O (e.g. pd.read_csv)"
      ],
      "metadata": {
        "_uuid": "8f2839f25d086af736a60e9eeb907d3b93b6e0e5",
        "_cell_guid": "b1076dfc-b9ad-4769-8c92-a6c4dae69d19",
        "execution": {
          "iopub.status.busy": "2022-12-22T17:09:08.039233Z",
          "iopub.execute_input": "2022-12-22T17:09:08.040491Z",
          "iopub.status.idle": "2022-12-22T17:09:08.068877Z",
          "shell.execute_reply.started": "2022-12-22T17:09:08.040445Z",
          "shell.execute_reply": "2022-12-22T17:09:08.068028Z"
        },
        "trusted": true,
        "id": "mwR5Ec6BfoNP"
      },
      "execution_count": null,
      "outputs": []
    },
    {
      "cell_type": "code",
      "source": [
        "import matplotlib.pyplot as plt\n",
        "import seaborn as sns\n",
        "from sklearn.preprocessing import RobustScaler"
      ],
      "metadata": {
        "execution": {
          "iopub.status.busy": "2022-12-22T17:09:08.070232Z",
          "iopub.execute_input": "2022-12-22T17:09:08.071082Z",
          "iopub.status.idle": "2022-12-22T17:09:08.144185Z",
          "shell.execute_reply.started": "2022-12-22T17:09:08.071047Z",
          "shell.execute_reply": "2022-12-22T17:09:08.142988Z"
        },
        "trusted": true,
        "id": "MxdemgFcfoOB"
      },
      "execution_count": null,
      "outputs": []
    },
    {
      "cell_type": "markdown",
      "source": [
        "![image.png](attachment:5198fd91-dfac-4b1c-96cc-5509ecf0e59a.png)"
      ],
      "metadata": {
        "id": "mlMDWtKEfoOD"
      }
    },
    {
      "cell_type": "code",
      "source": [
        "train = pd.read_csv('https://raw.githubusercontent.com/dansek-dj/AnalyticsVidya/main/CrossSell/train.csv', index_col = 'id')\n",
        "test =  pd.read_csv('https://raw.githubusercontent.com/dansek-dj/AnalyticsVidya/main/CrossSell/test.csv', index_col = 'id')\n",
        "print(train.shape, test.shape)\n",
        "train['source'] = 'train'\n",
        "test['source'] = 'test'\n",
        "train.head()\n",
        "df = pd.concat([train,test])\n",
        "df"
      ],
      "metadata": {
        "execution": {
          "iopub.status.busy": "2022-12-22T17:09:08.146023Z",
          "iopub.execute_input": "2022-12-22T17:09:08.146415Z",
          "iopub.status.idle": "2022-12-22T17:09:09.172963Z",
          "shell.execute_reply.started": "2022-12-22T17:09:08.146371Z",
          "shell.execute_reply": "2022-12-22T17:09:09.171856Z"
        },
        "trusted": true,
        "colab": {
          "base_uri": "https://localhost:8080/",
          "height": 472
        },
        "id": "vNg6FFhZfoOH",
        "outputId": "f77f9ca1-1712-4e76-a0d9-1871b314eca5"
      },
      "execution_count": null,
      "outputs": [
        {
          "output_type": "stream",
          "name": "stdout",
          "text": [
            "(381109, 11) (127037, 10)\n"
          ]
        },
        {
          "output_type": "execute_result",
          "data": {
            "text/plain": [
              "        Gender  Age  Driving_License  Region_Code  Previously_Insured  \\\n",
              "id                                                                      \n",
              "1         Male   44                1         28.0                   0   \n",
              "2         Male   76                1          3.0                   0   \n",
              "3         Male   47                1         28.0                   0   \n",
              "4         Male   21                1         11.0                   1   \n",
              "5       Female   29                1         41.0                   1   \n",
              "...        ...  ...              ...          ...                 ...   \n",
              "508142  Female   26                1         37.0                   1   \n",
              "508143  Female   38                1         28.0                   0   \n",
              "508144    Male   21                1         46.0                   1   \n",
              "508145    Male   71                1         28.0                   1   \n",
              "508146    Male   41                1         29.0                   1   \n",
              "\n",
              "       Vehicle_Age Vehicle_Damage  Annual_Premium  Policy_Sales_Channel  \\\n",
              "id                                                                        \n",
              "1        > 2 Years            Yes         40454.0                  26.0   \n",
              "2         1-2 Year             No         33536.0                  26.0   \n",
              "3        > 2 Years            Yes         38294.0                  26.0   \n",
              "4         < 1 Year             No         28619.0                 152.0   \n",
              "5         < 1 Year             No         27496.0                 152.0   \n",
              "...            ...            ...             ...                   ...   \n",
              "508142    < 1 Year             No         30867.0                 152.0   \n",
              "508143    1-2 Year            Yes         28700.0                 122.0   \n",
              "508144    < 1 Year             No         29802.0                 152.0   \n",
              "508145    1-2 Year             No         62875.0                  26.0   \n",
              "508146    1-2 Year             No         27927.0                 124.0   \n",
              "\n",
              "        Vintage  Response source  \n",
              "id                                \n",
              "1           217       1.0  train  \n",
              "2           183       0.0  train  \n",
              "3            27       1.0  train  \n",
              "4           203       0.0  train  \n",
              "5            39       0.0  train  \n",
              "...         ...       ...    ...  \n",
              "508142       56       NaN   test  \n",
              "508143      165       NaN   test  \n",
              "508144       74       NaN   test  \n",
              "508145      265       NaN   test  \n",
              "508146      231       NaN   test  \n",
              "\n",
              "[508146 rows x 12 columns]"
            ],
            "text/html": [
              "\n",
              "  <div id=\"df-7ca566ba-e2ff-4d8c-a4a6-ebec5aff72a0\">\n",
              "    <div class=\"colab-df-container\">\n",
              "      <div>\n",
              "<style scoped>\n",
              "    .dataframe tbody tr th:only-of-type {\n",
              "        vertical-align: middle;\n",
              "    }\n",
              "\n",
              "    .dataframe tbody tr th {\n",
              "        vertical-align: top;\n",
              "    }\n",
              "\n",
              "    .dataframe thead th {\n",
              "        text-align: right;\n",
              "    }\n",
              "</style>\n",
              "<table border=\"1\" class=\"dataframe\">\n",
              "  <thead>\n",
              "    <tr style=\"text-align: right;\">\n",
              "      <th></th>\n",
              "      <th>Gender</th>\n",
              "      <th>Age</th>\n",
              "      <th>Driving_License</th>\n",
              "      <th>Region_Code</th>\n",
              "      <th>Previously_Insured</th>\n",
              "      <th>Vehicle_Age</th>\n",
              "      <th>Vehicle_Damage</th>\n",
              "      <th>Annual_Premium</th>\n",
              "      <th>Policy_Sales_Channel</th>\n",
              "      <th>Vintage</th>\n",
              "      <th>Response</th>\n",
              "      <th>source</th>\n",
              "    </tr>\n",
              "    <tr>\n",
              "      <th>id</th>\n",
              "      <th></th>\n",
              "      <th></th>\n",
              "      <th></th>\n",
              "      <th></th>\n",
              "      <th></th>\n",
              "      <th></th>\n",
              "      <th></th>\n",
              "      <th></th>\n",
              "      <th></th>\n",
              "      <th></th>\n",
              "      <th></th>\n",
              "      <th></th>\n",
              "    </tr>\n",
              "  </thead>\n",
              "  <tbody>\n",
              "    <tr>\n",
              "      <th>1</th>\n",
              "      <td>Male</td>\n",
              "      <td>44</td>\n",
              "      <td>1</td>\n",
              "      <td>28.0</td>\n",
              "      <td>0</td>\n",
              "      <td>&gt; 2 Years</td>\n",
              "      <td>Yes</td>\n",
              "      <td>40454.0</td>\n",
              "      <td>26.0</td>\n",
              "      <td>217</td>\n",
              "      <td>1.0</td>\n",
              "      <td>train</td>\n",
              "    </tr>\n",
              "    <tr>\n",
              "      <th>2</th>\n",
              "      <td>Male</td>\n",
              "      <td>76</td>\n",
              "      <td>1</td>\n",
              "      <td>3.0</td>\n",
              "      <td>0</td>\n",
              "      <td>1-2 Year</td>\n",
              "      <td>No</td>\n",
              "      <td>33536.0</td>\n",
              "      <td>26.0</td>\n",
              "      <td>183</td>\n",
              "      <td>0.0</td>\n",
              "      <td>train</td>\n",
              "    </tr>\n",
              "    <tr>\n",
              "      <th>3</th>\n",
              "      <td>Male</td>\n",
              "      <td>47</td>\n",
              "      <td>1</td>\n",
              "      <td>28.0</td>\n",
              "      <td>0</td>\n",
              "      <td>&gt; 2 Years</td>\n",
              "      <td>Yes</td>\n",
              "      <td>38294.0</td>\n",
              "      <td>26.0</td>\n",
              "      <td>27</td>\n",
              "      <td>1.0</td>\n",
              "      <td>train</td>\n",
              "    </tr>\n",
              "    <tr>\n",
              "      <th>4</th>\n",
              "      <td>Male</td>\n",
              "      <td>21</td>\n",
              "      <td>1</td>\n",
              "      <td>11.0</td>\n",
              "      <td>1</td>\n",
              "      <td>&lt; 1 Year</td>\n",
              "      <td>No</td>\n",
              "      <td>28619.0</td>\n",
              "      <td>152.0</td>\n",
              "      <td>203</td>\n",
              "      <td>0.0</td>\n",
              "      <td>train</td>\n",
              "    </tr>\n",
              "    <tr>\n",
              "      <th>5</th>\n",
              "      <td>Female</td>\n",
              "      <td>29</td>\n",
              "      <td>1</td>\n",
              "      <td>41.0</td>\n",
              "      <td>1</td>\n",
              "      <td>&lt; 1 Year</td>\n",
              "      <td>No</td>\n",
              "      <td>27496.0</td>\n",
              "      <td>152.0</td>\n",
              "      <td>39</td>\n",
              "      <td>0.0</td>\n",
              "      <td>train</td>\n",
              "    </tr>\n",
              "    <tr>\n",
              "      <th>...</th>\n",
              "      <td>...</td>\n",
              "      <td>...</td>\n",
              "      <td>...</td>\n",
              "      <td>...</td>\n",
              "      <td>...</td>\n",
              "      <td>...</td>\n",
              "      <td>...</td>\n",
              "      <td>...</td>\n",
              "      <td>...</td>\n",
              "      <td>...</td>\n",
              "      <td>...</td>\n",
              "      <td>...</td>\n",
              "    </tr>\n",
              "    <tr>\n",
              "      <th>508142</th>\n",
              "      <td>Female</td>\n",
              "      <td>26</td>\n",
              "      <td>1</td>\n",
              "      <td>37.0</td>\n",
              "      <td>1</td>\n",
              "      <td>&lt; 1 Year</td>\n",
              "      <td>No</td>\n",
              "      <td>30867.0</td>\n",
              "      <td>152.0</td>\n",
              "      <td>56</td>\n",
              "      <td>NaN</td>\n",
              "      <td>test</td>\n",
              "    </tr>\n",
              "    <tr>\n",
              "      <th>508143</th>\n",
              "      <td>Female</td>\n",
              "      <td>38</td>\n",
              "      <td>1</td>\n",
              "      <td>28.0</td>\n",
              "      <td>0</td>\n",
              "      <td>1-2 Year</td>\n",
              "      <td>Yes</td>\n",
              "      <td>28700.0</td>\n",
              "      <td>122.0</td>\n",
              "      <td>165</td>\n",
              "      <td>NaN</td>\n",
              "      <td>test</td>\n",
              "    </tr>\n",
              "    <tr>\n",
              "      <th>508144</th>\n",
              "      <td>Male</td>\n",
              "      <td>21</td>\n",
              "      <td>1</td>\n",
              "      <td>46.0</td>\n",
              "      <td>1</td>\n",
              "      <td>&lt; 1 Year</td>\n",
              "      <td>No</td>\n",
              "      <td>29802.0</td>\n",
              "      <td>152.0</td>\n",
              "      <td>74</td>\n",
              "      <td>NaN</td>\n",
              "      <td>test</td>\n",
              "    </tr>\n",
              "    <tr>\n",
              "      <th>508145</th>\n",
              "      <td>Male</td>\n",
              "      <td>71</td>\n",
              "      <td>1</td>\n",
              "      <td>28.0</td>\n",
              "      <td>1</td>\n",
              "      <td>1-2 Year</td>\n",
              "      <td>No</td>\n",
              "      <td>62875.0</td>\n",
              "      <td>26.0</td>\n",
              "      <td>265</td>\n",
              "      <td>NaN</td>\n",
              "      <td>test</td>\n",
              "    </tr>\n",
              "    <tr>\n",
              "      <th>508146</th>\n",
              "      <td>Male</td>\n",
              "      <td>41</td>\n",
              "      <td>1</td>\n",
              "      <td>29.0</td>\n",
              "      <td>1</td>\n",
              "      <td>1-2 Year</td>\n",
              "      <td>No</td>\n",
              "      <td>27927.0</td>\n",
              "      <td>124.0</td>\n",
              "      <td>231</td>\n",
              "      <td>NaN</td>\n",
              "      <td>test</td>\n",
              "    </tr>\n",
              "  </tbody>\n",
              "</table>\n",
              "<p>508146 rows × 12 columns</p>\n",
              "</div>\n",
              "      <button class=\"colab-df-convert\" onclick=\"convertToInteractive('df-7ca566ba-e2ff-4d8c-a4a6-ebec5aff72a0')\"\n",
              "              title=\"Convert this dataframe to an interactive table.\"\n",
              "              style=\"display:none;\">\n",
              "        \n",
              "  <svg xmlns=\"http://www.w3.org/2000/svg\" height=\"24px\"viewBox=\"0 0 24 24\"\n",
              "       width=\"24px\">\n",
              "    <path d=\"M0 0h24v24H0V0z\" fill=\"none\"/>\n",
              "    <path d=\"M18.56 5.44l.94 2.06.94-2.06 2.06-.94-2.06-.94-.94-2.06-.94 2.06-2.06.94zm-11 1L8.5 8.5l.94-2.06 2.06-.94-2.06-.94L8.5 2.5l-.94 2.06-2.06.94zm10 10l.94 2.06.94-2.06 2.06-.94-2.06-.94-.94-2.06-.94 2.06-2.06.94z\"/><path d=\"M17.41 7.96l-1.37-1.37c-.4-.4-.92-.59-1.43-.59-.52 0-1.04.2-1.43.59L10.3 9.45l-7.72 7.72c-.78.78-.78 2.05 0 2.83L4 21.41c.39.39.9.59 1.41.59.51 0 1.02-.2 1.41-.59l7.78-7.78 2.81-2.81c.8-.78.8-2.07 0-2.86zM5.41 20L4 18.59l7.72-7.72 1.47 1.35L5.41 20z\"/>\n",
              "  </svg>\n",
              "      </button>\n",
              "      \n",
              "  <style>\n",
              "    .colab-df-container {\n",
              "      display:flex;\n",
              "      flex-wrap:wrap;\n",
              "      gap: 12px;\n",
              "    }\n",
              "\n",
              "    .colab-df-convert {\n",
              "      background-color: #E8F0FE;\n",
              "      border: none;\n",
              "      border-radius: 50%;\n",
              "      cursor: pointer;\n",
              "      display: none;\n",
              "      fill: #1967D2;\n",
              "      height: 32px;\n",
              "      padding: 0 0 0 0;\n",
              "      width: 32px;\n",
              "    }\n",
              "\n",
              "    .colab-df-convert:hover {\n",
              "      background-color: #E2EBFA;\n",
              "      box-shadow: 0px 1px 2px rgba(60, 64, 67, 0.3), 0px 1px 3px 1px rgba(60, 64, 67, 0.15);\n",
              "      fill: #174EA6;\n",
              "    }\n",
              "\n",
              "    [theme=dark] .colab-df-convert {\n",
              "      background-color: #3B4455;\n",
              "      fill: #D2E3FC;\n",
              "    }\n",
              "\n",
              "    [theme=dark] .colab-df-convert:hover {\n",
              "      background-color: #434B5C;\n",
              "      box-shadow: 0px 1px 3px 1px rgba(0, 0, 0, 0.15);\n",
              "      filter: drop-shadow(0px 1px 2px rgba(0, 0, 0, 0.3));\n",
              "      fill: #FFFFFF;\n",
              "    }\n",
              "  </style>\n",
              "\n",
              "      <script>\n",
              "        const buttonEl =\n",
              "          document.querySelector('#df-7ca566ba-e2ff-4d8c-a4a6-ebec5aff72a0 button.colab-df-convert');\n",
              "        buttonEl.style.display =\n",
              "          google.colab.kernel.accessAllowed ? 'block' : 'none';\n",
              "\n",
              "        async function convertToInteractive(key) {\n",
              "          const element = document.querySelector('#df-7ca566ba-e2ff-4d8c-a4a6-ebec5aff72a0');\n",
              "          const dataTable =\n",
              "            await google.colab.kernel.invokeFunction('convertToInteractive',\n",
              "                                                     [key], {});\n",
              "          if (!dataTable) return;\n",
              "\n",
              "          const docLinkHtml = 'Like what you see? Visit the ' +\n",
              "            '<a target=\"_blank\" href=https://colab.research.google.com/notebooks/data_table.ipynb>data table notebook</a>'\n",
              "            + ' to learn more about interactive tables.';\n",
              "          element.innerHTML = '';\n",
              "          dataTable['output_type'] = 'display_data';\n",
              "          await google.colab.output.renderOutput(dataTable, element);\n",
              "          const docLink = document.createElement('div');\n",
              "          docLink.innerHTML = docLinkHtml;\n",
              "          element.appendChild(docLink);\n",
              "        }\n",
              "      </script>\n",
              "    </div>\n",
              "  </div>\n",
              "  "
            ]
          },
          "metadata": {},
          "execution_count": 5
        }
      ]
    },
    {
      "cell_type": "code",
      "source": [
        "def Datainfo(df):\n",
        "  print('Null values in each column',df.isnull().sum())\n",
        "  print('_.'*70, end = '\\n\\n')\n",
        "  print('The duplicates in the dataframe is :',df.duplicated().sum())\n",
        "  print('_.'*70, end = '\\n\\n')\n",
        "  print(df.info())\n",
        "  print('_.'*70, end = '\\n\\n')\n",
        "  print('Unique Values in Data', df.nunique())\n"
      ],
      "metadata": {
        "id": "zkOSuFfog5m_"
      },
      "execution_count": null,
      "outputs": []
    },
    {
      "cell_type": "code",
      "source": [
        "Datainfo(df)"
      ],
      "metadata": {
        "colab": {
          "base_uri": "https://localhost:8080/"
        },
        "id": "gwO0jFVLhG2l",
        "outputId": "be06d7d9-de2a-4c32-8653-641fa4fdb4f8"
      },
      "execution_count": null,
      "outputs": [
        {
          "output_type": "stream",
          "name": "stdout",
          "text": [
            "Null values in each column Gender                       0\n",
            "Age                          0\n",
            "Driving_License              0\n",
            "Region_Code                  0\n",
            "Previously_Insured           0\n",
            "Vehicle_Age                  0\n",
            "Vehicle_Damage               0\n",
            "Annual_Premium               0\n",
            "Policy_Sales_Channel         0\n",
            "Vintage                      0\n",
            "Response                127037\n",
            "source                       0\n",
            "dtype: int64\n",
            "_._._._._._._._._._._._._._._._._._._._._._._._._._._._._._._._._._._._._._._._._._._._._._._._._._._._._._._._._._._._._._._._._._._._._._.\n",
            "\n",
            "The duplicates in the dataframe is : 306\n",
            "_._._._._._._._._._._._._._._._._._._._._._._._._._._._._._._._._._._._._._._._._._._._._._._._._._._._._._._._._._._._._._._._._._._._._._.\n",
            "\n",
            "<class 'pandas.core.frame.DataFrame'>\n",
            "Int64Index: 508146 entries, 1 to 508146\n",
            "Data columns (total 12 columns):\n",
            " #   Column                Non-Null Count   Dtype  \n",
            "---  ------                --------------   -----  \n",
            " 0   Gender                508146 non-null  object \n",
            " 1   Age                   508146 non-null  int64  \n",
            " 2   Driving_License       508146 non-null  int64  \n",
            " 3   Region_Code           508146 non-null  float64\n",
            " 4   Previously_Insured    508146 non-null  int64  \n",
            " 5   Vehicle_Age           508146 non-null  object \n",
            " 6   Vehicle_Damage        508146 non-null  object \n",
            " 7   Annual_Premium        508146 non-null  float64\n",
            " 8   Policy_Sales_Channel  508146 non-null  float64\n",
            " 9   Vintage               508146 non-null  int64  \n",
            " 10  Response              381109 non-null  float64\n",
            " 11  source                508146 non-null  object \n",
            "dtypes: float64(4), int64(4), object(4)\n",
            "memory usage: 50.4+ MB\n",
            "None\n",
            "_._._._._._._._._._._._._._._._._._._._._._._._._._._._._._._._._._._._._._._._._._._._._._._._._._._._._._._._._._._._._._._._._._._._._._.\n",
            "\n",
            "Unique Values in Data Gender                      2\n",
            "Age                        66\n",
            "Driving_License             2\n",
            "Region_Code                53\n",
            "Previously_Insured          2\n",
            "Vehicle_Age                 3\n",
            "Vehicle_Damage              2\n",
            "Annual_Premium          52062\n",
            "Policy_Sales_Channel      157\n",
            "Vintage                   290\n",
            "Response                    2\n",
            "source                      2\n",
            "dtype: int64\n"
          ]
        }
      ]
    },
    {
      "cell_type": "code",
      "source": [
        "plt.figure(figsize = (40,20))\n",
        "sns.countplot(x = train.Age, hue =train.Response, palette= 'pastel')"
      ],
      "metadata": {
        "execution": {
          "iopub.status.busy": "2022-12-22T17:09:09.174447Z",
          "iopub.execute_input": "2022-12-22T17:09:09.174783Z",
          "iopub.status.idle": "2022-12-22T17:09:10.692349Z",
          "shell.execute_reply.started": "2022-12-22T17:09:09.174752Z",
          "shell.execute_reply": "2022-12-22T17:09:10.691088Z"
        },
        "trusted": true,
        "colab": {
          "base_uri": "https://localhost:8080/",
          "height": 920
        },
        "id": "E2rjpCXbfoOI",
        "outputId": "551b81cc-acb9-40ae-d25b-4b68e4bdcce6"
      },
      "execution_count": null,
      "outputs": [
        {
          "output_type": "execute_result",
          "data": {
            "text/plain": [
              "<matplotlib.axes._subplots.AxesSubplot at 0x7fa54d1f5d60>"
            ]
          },
          "metadata": {},
          "execution_count": 8
        },
        {
          "output_type": "display_data",
          "data": {
            "text/plain": [
              "<Figure size 2880x1440 with 1 Axes>"
            ],
            "image/png": "[encoded data removed]"
          },
          "metadata": {
            "needs_background": "light"
          }
        }
      ]
    },
    {
      "cell_type": "code",
      "source": [
        "#sns.pairplot(train, hue = 'Response')"
      ],
      "metadata": {
        "execution": {
          "iopub.status.busy": "2022-12-22T17:09:10.695020Z",
          "iopub.execute_input": "2022-12-22T17:09:10.695399Z",
          "iopub.status.idle": "2022-12-22T17:09:10.700688Z",
          "shell.execute_reply.started": "2022-12-22T17:09:10.695365Z",
          "shell.execute_reply": "2022-12-22T17:09:10.699636Z"
        },
        "trusted": true,
        "id": "mq8nDjxrfoOJ"
      },
      "execution_count": null,
      "outputs": []
    },
    {
      "cell_type": "code",
      "source": [
        "sns.catplot(data = train, x = 'Driving_License', hue= 'Response', kind = 'count', palette = 'mako', order= [1,0])"
      ],
      "metadata": {
        "execution": {
          "iopub.status.busy": "2022-12-22T17:09:10.702130Z",
          "iopub.execute_input": "2022-12-22T17:09:10.702831Z",
          "iopub.status.idle": "2022-12-22T17:09:11.502476Z",
          "shell.execute_reply.started": "2022-12-22T17:09:10.702780Z",
          "shell.execute_reply": "2022-12-22T17:09:11.501606Z"
        },
        "trusted": true,
        "colab": {
          "base_uri": "https://localhost:8080/",
          "height": 386
        },
        "id": "pzCkmrwyfoOK",
        "outputId": "84529346-8ed3-43ca-b59f-92cbe04f6e24"
      },
      "execution_count": null,
      "outputs": [
        {
          "output_type": "execute_result",
          "data": {
            "text/plain": [
              "<seaborn.axisgrid.FacetGrid at 0x7fa54d18c670>"
            ]
          },
          "metadata": {},
          "execution_count": 10
        },
        {
          "output_type": "display_data",
          "data": {
            "text/plain": [
              "<Figure size 415.75x360 with 1 Axes>"
            ],
            "image/png": "[encoded data removed]"
          },
          "metadata": {
            "needs_background": "light"
          }
        }
      ]
    },
    {
      "cell_type": "code",
      "source": [
        "sns.countplot(data = train, x = 'Vehicle_Age', hue= 'Response', palette = 'Set2')"
      ],
      "metadata": {
        "execution": {
          "iopub.status.busy": "2022-12-22T17:09:11.503936Z",
          "iopub.execute_input": "2022-12-22T17:09:11.504903Z",
          "iopub.status.idle": "2022-12-22T17:09:12.061841Z",
          "shell.execute_reply.started": "2022-12-22T17:09:11.504869Z",
          "shell.execute_reply": "2022-12-22T17:09:12.060438Z"
        },
        "trusted": true,
        "colab": {
          "base_uri": "https://localhost:8080/",
          "height": 297
        },
        "id": "W1ZwEkpmfoOP",
        "outputId": "9f056563-cd60-4fd1-df68-fe71500257a8"
      },
      "execution_count": null,
      "outputs": [
        {
          "output_type": "execute_result",
          "data": {
            "text/plain": [
              "<matplotlib.axes._subplots.AxesSubplot at 0x7fa547c8f610>"
            ]
          },
          "metadata": {},
          "execution_count": 11
        },
        {
          "output_type": "display_data",
          "data": {
            "text/plain": [
              "<Figure size 432x288 with 1 Axes>"
            ],
            "image/png": "[encoded data removed]"
          },
          "metadata": {
            "needs_background": "light"
          }
        }
      ]
    },
    {
      "cell_type": "code",
      "source": [
        "plt.figure(figsize = (40,10))\n",
        "sns.countplot(data = train, x = 'Region_Code', hue = 'Response', palette = 'rainbow')"
      ],
      "metadata": {
        "execution": {
          "iopub.status.busy": "2022-12-22T17:09:12.063681Z",
          "iopub.execute_input": "2022-12-22T17:09:12.064467Z",
          "iopub.status.idle": "2022-12-22T17:09:13.419482Z",
          "shell.execute_reply.started": "2022-12-22T17:09:12.064411Z",
          "shell.execute_reply": "2022-12-22T17:09:13.418419Z"
        },
        "trusted": true,
        "colab": {
          "base_uri": "https://localhost:8080/",
          "height": 495
        },
        "id": "mO-pHgO0foOQ",
        "outputId": "6267865e-c065-4de4-c74b-a863a94eedef"
      },
      "execution_count": null,
      "outputs": [
        {
          "output_type": "execute_result",
          "data": {
            "text/plain": [
              "<matplotlib.axes._subplots.AxesSubplot at 0x7fa54d102df0>"
            ]
          },
          "metadata": {},
          "execution_count": 12
        },
        {
          "output_type": "display_data",
          "data": {
            "text/plain": [
              "<Figure size 2880x720 with 1 Axes>"
            ],
            "image/png": "[encoded data removed]"
          },
          "metadata": {
            "needs_background": "light"
          }
        }
      ]
    },
    {
      "cell_type": "code",
      "source": [
        "plt.figure(figsize = (10,8))\n",
        "sns.heatmap(data = train.corr(), annot = True, cmap = 'Greens')"
      ],
      "metadata": {
        "execution": {
          "iopub.status.busy": "2022-12-22T17:09:13.421055Z",
          "iopub.execute_input": "2022-12-22T17:09:13.421396Z",
          "iopub.status.idle": "2022-12-22T17:09:14.210277Z",
          "shell.execute_reply.started": "2022-12-22T17:09:13.421340Z",
          "shell.execute_reply": "2022-12-22T17:09:14.209205Z"
        },
        "trusted": true,
        "colab": {
          "base_uri": "https://localhost:8080/",
          "height": 600
        },
        "id": "4QKv7GjMfoOR",
        "outputId": "4c21dc0f-48a6-48d3-f726-bd839b121da1"
      },
      "execution_count": null,
      "outputs": [
        {
          "output_type": "execute_result",
          "data": {
            "text/plain": [
              "<matplotlib.axes._subplots.AxesSubplot at 0x7fa54c9f3400>"
            ]
          },
          "metadata": {},
          "execution_count": 13
        },
        {
          "output_type": "display_data",
          "data": {
            "text/plain": [
              "<Figure size 720x576 with 2 Axes>"
            ],
            "image/png": "[encoded data removed]"
          },
          "metadata": {
            "needs_background": "light"
          }
        }
      ]
    },
    {
      "cell_type": "code",
      "source": [
        "sns.boxplot(x =df.Previously_Insured, y = df.Age, hue = df.Response)"
      ],
      "metadata": {
        "execution": {
          "iopub.status.busy": "2022-12-20T15:16:22.800454Z",
          "iopub.execute_input": "2022-12-20T15:16:22.800922Z",
          "iopub.status.idle": "2022-12-20T15:16:23.323254Z",
          "shell.execute_reply.started": "2022-12-20T15:16:22.800886Z",
          "shell.execute_reply": "2022-12-20T15:16:23.321934Z"
        },
        "trusted": true,
        "colab": {
          "base_uri": "https://localhost:8080/",
          "height": 297
        },
        "id": "98qihHRgfoVt",
        "outputId": "90ba066b-ade5-4523-c653-3ce362929c14"
      },
      "execution_count": null,
      "outputs": [
        {
          "output_type": "execute_result",
          "data": {
            "text/plain": [
              "<matplotlib.axes._subplots.AxesSubplot at 0x7fa54d185c40>"
            ]
          },
          "metadata": {},
          "execution_count": 29
        },
        {
          "output_type": "display_data",
          "data": {
            "text/plain": [
              "<Figure size 432x288 with 1 Axes>"
            ],
            "image/png": "[encoded data removed]"
          },
          "metadata": {
            "needs_background": "light"
          }
        }
      ]
    },
    {
      "cell_type": "code",
      "source": [
        "cat_col = df.select_dtypes(exclude = np.number)\n",
        "cat_col"
      ],
      "metadata": {
        "execution": {
          "iopub.status.busy": "2022-12-22T17:09:14.926179Z",
          "iopub.execute_input": "2022-12-22T17:09:14.926545Z",
          "iopub.status.idle": "2022-12-22T17:09:15.033074Z",
          "shell.execute_reply.started": "2022-12-22T17:09:14.926513Z",
          "shell.execute_reply": "2022-12-22T17:09:15.031998Z"
        },
        "trusted": true,
        "colab": {
          "base_uri": "https://localhost:8080/",
          "height": 455
        },
        "id": "vlJ_R0DdfoVN",
        "outputId": "2ef911f1-486a-4db4-a6d4-d5f3d72056e5"
      },
      "execution_count": null,
      "outputs": [
        {
          "output_type": "execute_result",
          "data": {
            "text/plain": [
              "        Gender Vehicle_Age Vehicle_Damage source\n",
              "id                                              \n",
              "1         Male   > 2 Years            Yes  train\n",
              "2         Male    1-2 Year             No  train\n",
              "3         Male   > 2 Years            Yes  train\n",
              "4         Male    < 1 Year             No  train\n",
              "5       Female    < 1 Year             No  train\n",
              "...        ...         ...            ...    ...\n",
              "508142  Female    < 1 Year             No   test\n",
              "508143  Female    1-2 Year            Yes   test\n",
              "508144    Male    < 1 Year             No   test\n",
              "508145    Male    1-2 Year             No   test\n",
              "508146    Male    1-2 Year             No   test\n",
              "\n",
              "[508146 rows x 4 columns]"
            ],
            "text/html": [
              "\n",
              "  <div id=\"df-1f36cc4c-cad0-4fec-8672-9248786163bb\">\n",
              "    <div class=\"colab-df-container\">\n",
              "      <div>\n",
              "<style scoped>\n",
              "    .dataframe tbody tr th:only-of-type {\n",
              "        vertical-align: middle;\n",
              "    }\n",
              "\n",
              "    .dataframe tbody tr th {\n",
              "        vertical-align: top;\n",
              "    }\n",
              "\n",
              "    .dataframe thead th {\n",
              "        text-align: right;\n",
              "    }\n",
              "</style>\n",
              "<table border=\"1\" class=\"dataframe\">\n",
              "  <thead>\n",
              "    <tr style=\"text-align: right;\">\n",
              "      <th></th>\n",
              "      <th>Gender</th>\n",
              "      <th>Vehicle_Age</th>\n",
              "      <th>Vehicle_Damage</th>\n",
              "      <th>source</th>\n",
              "    </tr>\n",
              "    <tr>\n",
              "      <th>id</th>\n",
              "      <th></th>\n",
              "      <th></th>\n",
              "      <th></th>\n",
              "      <th></th>\n",
              "    </tr>\n",
              "  </thead>\n",
              "  <tbody>\n",
              "    <tr>\n",
              "      <th>1</th>\n",
              "      <td>Male</td>\n",
              "      <td>&gt; 2 Years</td>\n",
              "      <td>Yes</td>\n",
              "      <td>train</td>\n",
              "    </tr>\n",
              "    <tr>\n",
              "      <th>2</th>\n",
              "      <td>Male</td>\n",
              "      <td>1-2 Year</td>\n",
              "      <td>No</td>\n",
              "      <td>train</td>\n",
              "    </tr>\n",
              "    <tr>\n",
              "      <th>3</th>\n",
              "      <td>Male</td>\n",
              "      <td>&gt; 2 Years</td>\n",
              "      <td>Yes</td>\n",
              "      <td>train</td>\n",
              "    </tr>\n",
              "    <tr>\n",
              "      <th>4</th>\n",
              "      <td>Male</td>\n",
              "      <td>&lt; 1 Year</td>\n",
              "      <td>No</td>\n",
              "      <td>train</td>\n",
              "    </tr>\n",
              "    <tr>\n",
              "      <th>5</th>\n",
              "      <td>Female</td>\n",
              "      <td>&lt; 1 Year</td>\n",
              "      <td>No</td>\n",
              "      <td>train</td>\n",
              "    </tr>\n",
              "    <tr>\n",
              "      <th>...</th>\n",
              "      <td>...</td>\n",
              "      <td>...</td>\n",
              "      <td>...</td>\n",
              "      <td>...</td>\n",
              "    </tr>\n",
              "    <tr>\n",
              "      <th>508142</th>\n",
              "      <td>Female</td>\n",
              "      <td>&lt; 1 Year</td>\n",
              "      <td>No</td>\n",
              "      <td>test</td>\n",
              "    </tr>\n",
              "    <tr>\n",
              "      <th>508143</th>\n",
              "      <td>Female</td>\n",
              "      <td>1-2 Year</td>\n",
              "      <td>Yes</td>\n",
              "      <td>test</td>\n",
              "    </tr>\n",
              "    <tr>\n",
              "      <th>508144</th>\n",
              "      <td>Male</td>\n",
              "      <td>&lt; 1 Year</td>\n",
              "      <td>No</td>\n",
              "      <td>test</td>\n",
              "    </tr>\n",
              "    <tr>\n",
              "      <th>508145</th>\n",
              "      <td>Male</td>\n",
              "      <td>1-2 Year</td>\n",
              "      <td>No</td>\n",
              "      <td>test</td>\n",
              "    </tr>\n",
              "    <tr>\n",
              "      <th>508146</th>\n",
              "      <td>Male</td>\n",
              "      <td>1-2 Year</td>\n",
              "      <td>No</td>\n",
              "      <td>test</td>\n",
              "    </tr>\n",
              "  </tbody>\n",
              "</table>\n",
              "<p>508146 rows × 4 columns</p>\n",
              "</div>\n",
              "      <button class=\"colab-df-convert\" onclick=\"convertToInteractive('df-1f36cc4c-cad0-4fec-8672-9248786163bb')\"\n",
              "              title=\"Convert this dataframe to an interactive table.\"\n",
              "              style=\"display:none;\">\n",
              "        \n",
              "  <svg xmlns=\"http://www.w3.org/2000/svg\" height=\"24px\"viewBox=\"0 0 24 24\"\n",
              "       width=\"24px\">\n",
              "    <path d=\"M0 0h24v24H0V0z\" fill=\"none\"/>\n",
              "    <path d=\"M18.56 5.44l.94 2.06.94-2.06 2.06-.94-2.06-.94-.94-2.06-.94 2.06-2.06.94zm-11 1L8.5 8.5l.94-2.06 2.06-.94-2.06-.94L8.5 2.5l-.94 2.06-2.06.94zm10 10l.94 2.06.94-2.06 2.06-.94-2.06-.94-.94-2.06-.94 2.06-2.06.94z\"/><path d=\"M17.41 7.96l-1.37-1.37c-.4-.4-.92-.59-1.43-.59-.52 0-1.04.2-1.43.59L10.3 9.45l-7.72 7.72c-.78.78-.78 2.05 0 2.83L4 21.41c.39.39.9.59 1.41.59.51 0 1.02-.2 1.41-.59l7.78-7.78 2.81-2.81c.8-.78.8-2.07 0-2.86zM5.41 20L4 18.59l7.72-7.72 1.47 1.35L5.41 20z\"/>\n",
              "  </svg>\n",
              "      </button>\n",
              "      \n",
              "  <style>\n",
              "    .colab-df-container {\n",
              "      display:flex;\n",
              "      flex-wrap:wrap;\n",
              "      gap: 12px;\n",
              "    }\n",
              "\n",
              "    .colab-df-convert {\n",
              "      background-color: #E8F0FE;\n",
              "      border: none;\n",
              "      border-radius: 50%;\n",
              "      cursor: pointer;\n",
              "      display: none;\n",
              "      fill: #1967D2;\n",
              "      height: 32px;\n",
              "      padding: 0 0 0 0;\n",
              "      width: 32px;\n",
              "    }\n",
              "\n",
              "    .colab-df-convert:hover {\n",
              "      background-color: #E2EBFA;\n",
              "      box-shadow: 0px 1px 2px rgba(60, 64, 67, 0.3), 0px 1px 3px 1px rgba(60, 64, 67, 0.15);\n",
              "      fill: #174EA6;\n",
              "    }\n",
              "\n",
              "    [theme=dark] .colab-df-convert {\n",
              "      background-color: #3B4455;\n",
              "      fill: #D2E3FC;\n",
              "    }\n",
              "\n",
              "    [theme=dark] .colab-df-convert:hover {\n",
              "      background-color: #434B5C;\n",
              "      box-shadow: 0px 1px 3px 1px rgba(0, 0, 0, 0.15);\n",
              "      filter: drop-shadow(0px 1px 2px rgba(0, 0, 0, 0.3));\n",
              "      fill: #FFFFFF;\n",
              "    }\n",
              "  </style>\n",
              "\n",
              "      <script>\n",
              "        const buttonEl =\n",
              "          document.querySelector('#df-1f36cc4c-cad0-4fec-8672-9248786163bb button.colab-df-convert');\n",
              "        buttonEl.style.display =\n",
              "          google.colab.kernel.accessAllowed ? 'block' : 'none';\n",
              "\n",
              "        async function convertToInteractive(key) {\n",
              "          const element = document.querySelector('#df-1f36cc4c-cad0-4fec-8672-9248786163bb');\n",
              "          const dataTable =\n",
              "            await google.colab.kernel.invokeFunction('convertToInteractive',\n",
              "                                                     [key], {});\n",
              "          if (!dataTable) return;\n",
              "\n",
              "          const docLinkHtml = 'Like what you see? Visit the ' +\n",
              "            '<a target=\"_blank\" href=https://colab.research.google.com/notebooks/data_table.ipynb>data table notebook</a>'\n",
              "            + ' to learn more about interactive tables.';\n",
              "          element.innerHTML = '';\n",
              "          dataTable['output_type'] = 'display_data';\n",
              "          await google.colab.output.renderOutput(dataTable, element);\n",
              "          const docLink = document.createElement('div');\n",
              "          docLink.innerHTML = docLinkHtml;\n",
              "          element.appendChild(docLink);\n",
              "        }\n",
              "      </script>\n",
              "    </div>\n",
              "  </div>\n",
              "  "
            ]
          },
          "metadata": {},
          "execution_count": 14
        }
      ]
    },
    {
      "cell_type": "code",
      "source": [
        "for column in cat_col.columns:\n",
        "    print(df[column].value_counts())"
      ],
      "metadata": {
        "execution": {
          "iopub.status.busy": "2022-12-22T17:09:15.034464Z",
          "iopub.execute_input": "2022-12-22T17:09:15.034833Z",
          "iopub.status.idle": "2022-12-22T17:09:15.158476Z",
          "shell.execute_reply.started": "2022-12-22T17:09:15.034791Z",
          "shell.execute_reply": "2022-12-22T17:09:15.157305Z"
        },
        "trusted": true,
        "colab": {
          "base_uri": "https://localhost:8080/"
        },
        "id": "6SstIlXtfoVU",
        "outputId": "0edd9cd1-673c-4be0-819f-22530421260b"
      },
      "execution_count": null,
      "outputs": [
        {
          "output_type": "stream",
          "name": "stdout",
          "text": [
            "Male      274325\n",
            "Female    233821\n",
            "Name: Gender, dtype: int64\n",
            "1-2 Year     267015\n",
            "< 1 Year     219805\n",
            "> 2 Years     21326\n",
            "Name: Vehicle_Age, dtype: int64\n",
            "Yes    256248\n",
            "No     251898\n",
            "Name: Vehicle_Damage, dtype: int64\n",
            "train    381109\n",
            "test     127037\n",
            "Name: source, dtype: int64\n"
          ]
        }
      ]
    },
    {
      "cell_type": "code",
      "source": [
        "from sklearn.preprocessing import OneHotEncoder\n",
        "ohe = OneHotEncoder()\n",
        "enc = ohe.fit_transform(df[['Gender','Region_Code','Policy_Sales_Channel']]).toarray()"
      ],
      "metadata": {
        "execution": {
          "iopub.status.busy": "2022-12-22T17:09:15.183187Z",
          "iopub.execute_input": "2022-12-22T17:09:15.184015Z",
          "iopub.status.idle": "2022-12-22T17:09:16.724511Z",
          "shell.execute_reply.started": "2022-12-22T17:09:15.183969Z",
          "shell.execute_reply": "2022-12-22T17:09:16.723301Z"
        },
        "trusted": true,
        "id": "PgFqDaLtfoVX"
      },
      "execution_count": null,
      "outputs": []
    },
    {
      "cell_type": "code",
      "source": [
        "data_en = pd.DataFrame(enc, columns = ohe.get_feature_names_out(['Gender','Region_Code','Policy_Sales_Channel']))"
      ],
      "metadata": {
        "execution": {
          "iopub.status.busy": "2022-12-22T17:09:16.725995Z",
          "iopub.execute_input": "2022-12-22T17:09:16.726351Z",
          "iopub.status.idle": "2022-12-22T17:09:16.732700Z",
          "shell.execute_reply.started": "2022-12-22T17:09:16.726319Z",
          "shell.execute_reply": "2022-12-22T17:09:16.731514Z"
        },
        "trusted": true,
        "id": "Ih5gMOK6foVa"
      },
      "execution_count": null,
      "outputs": []
    },
    {
      "cell_type": "code",
      "source": [
        "data_en"
      ],
      "metadata": {
        "execution": {
          "iopub.status.busy": "2022-12-22T17:09:16.734300Z",
          "iopub.execute_input": "2022-12-22T17:09:16.735011Z",
          "iopub.status.idle": "2022-12-22T17:09:17.303022Z",
          "shell.execute_reply.started": "2022-12-22T17:09:16.734967Z",
          "shell.execute_reply": "2022-12-22T17:09:17.301779Z"
        },
        "trusted": true,
        "colab": {
          "base_uri": "https://localhost:8080/",
          "height": 488
        },
        "id": "iemtPegFfoVb",
        "outputId": "acf2e9c6-95c9-470e-ea1f-054015cc7661"
      },
      "execution_count": null,
      "outputs": [
        {
          "output_type": "execute_result",
          "data": {
            "text/plain": [
              "        Gender_Female  Gender_Male  Region_Code_0.0  Region_Code_1.0  \\\n",
              "0                 0.0          1.0              0.0              0.0   \n",
              "1                 0.0          1.0              0.0              0.0   \n",
              "2                 0.0          1.0              0.0              0.0   \n",
              "3                 0.0          1.0              0.0              0.0   \n",
              "4                 1.0          0.0              0.0              0.0   \n",
              "...               ...          ...              ...              ...   \n",
              "508141            1.0          0.0              0.0              0.0   \n",
              "508142            1.0          0.0              0.0              0.0   \n",
              "508143            0.0          1.0              0.0              0.0   \n",
              "508144            0.0          1.0              0.0              0.0   \n",
              "508145            0.0          1.0              0.0              0.0   \n",
              "\n",
              "        Region_Code_2.0  Region_Code_3.0  Region_Code_4.0  Region_Code_5.0  \\\n",
              "0                   0.0              0.0              0.0              0.0   \n",
              "1                   0.0              1.0              0.0              0.0   \n",
              "2                   0.0              0.0              0.0              0.0   \n",
              "3                   0.0              0.0              0.0              0.0   \n",
              "4                   0.0              0.0              0.0              0.0   \n",
              "...                 ...              ...              ...              ...   \n",
              "508141              0.0              0.0              0.0              0.0   \n",
              "508142              0.0              0.0              0.0              0.0   \n",
              "508143              0.0              0.0              0.0              0.0   \n",
              "508144              0.0              0.0              0.0              0.0   \n",
              "508145              0.0              0.0              0.0              0.0   \n",
              "\n",
              "        Region_Code_6.0  Region_Code_7.0  ...  Policy_Sales_Channel_152.0  \\\n",
              "0                   0.0              0.0  ...                         0.0   \n",
              "1                   0.0              0.0  ...                         0.0   \n",
              "2                   0.0              0.0  ...                         0.0   \n",
              "3                   0.0              0.0  ...                         1.0   \n",
              "4                   0.0              0.0  ...                         1.0   \n",
              "...                 ...              ...  ...                         ...   \n",
              "508141              0.0              0.0  ...                         1.0   \n",
              "508142              0.0              0.0  ...                         0.0   \n",
              "508143              0.0              0.0  ...                         1.0   \n",
              "508144              0.0              0.0  ...                         0.0   \n",
              "508145              0.0              0.0  ...                         0.0   \n",
              "\n",
              "        Policy_Sales_Channel_153.0  Policy_Sales_Channel_154.0  \\\n",
              "0                              0.0                         0.0   \n",
              "1                              0.0                         0.0   \n",
              "2                              0.0                         0.0   \n",
              "3                              0.0                         0.0   \n",
              "4                              0.0                         0.0   \n",
              "...                            ...                         ...   \n",
              "508141                         0.0                         0.0   \n",
              "508142                         0.0                         0.0   \n",
              "508143                         0.0                         0.0   \n",
              "508144                         0.0                         0.0   \n",
              "508145                         0.0                         0.0   \n",
              "\n",
              "        Policy_Sales_Channel_155.0  Policy_Sales_Channel_156.0  \\\n",
              "0                              0.0                         0.0   \n",
              "1                              0.0                         0.0   \n",
              "2                              0.0                         0.0   \n",
              "3                              0.0                         0.0   \n",
              "4                              0.0                         0.0   \n",
              "...                            ...                         ...   \n",
              "508141                         0.0                         0.0   \n",
              "508142                         0.0                         0.0   \n",
              "508143                         0.0                         0.0   \n",
              "508144                         0.0                         0.0   \n",
              "508145                         0.0                         0.0   \n",
              "\n",
              "        Policy_Sales_Channel_157.0  Policy_Sales_Channel_158.0  \\\n",
              "0                              0.0                         0.0   \n",
              "1                              0.0                         0.0   \n",
              "2                              0.0                         0.0   \n",
              "3                              0.0                         0.0   \n",
              "4                              0.0                         0.0   \n",
              "...                            ...                         ...   \n",
              "508141                         0.0                         0.0   \n",
              "508142                         0.0                         0.0   \n",
              "508143                         0.0                         0.0   \n",
              "508144                         0.0                         0.0   \n",
              "508145                         0.0                         0.0   \n",
              "\n",
              "        Policy_Sales_Channel_159.0  Policy_Sales_Channel_160.0  \\\n",
              "0                              0.0                         0.0   \n",
              "1                              0.0                         0.0   \n",
              "2                              0.0                         0.0   \n",
              "3                              0.0                         0.0   \n",
              "4                              0.0                         0.0   \n",
              "...                            ...                         ...   \n",
              "508141                         0.0                         0.0   \n",
              "508142                         0.0                         0.0   \n",
              "508143                         0.0                         0.0   \n",
              "508144                         0.0                         0.0   \n",
              "508145                         0.0                         0.0   \n",
              "\n",
              "        Policy_Sales_Channel_163.0  \n",
              "0                              0.0  \n",
              "1                              0.0  \n",
              "2                              0.0  \n",
              "3                              0.0  \n",
              "4                              0.0  \n",
              "...                            ...  \n",
              "508141                         0.0  \n",
              "508142                         0.0  \n",
              "508143                         0.0  \n",
              "508144                         0.0  \n",
              "508145                         0.0  \n",
              "\n",
              "[508146 rows x 212 columns]"
            ],
            "text/html": [
              "\n",
              "  <div id=\"df-dbe6ee4e-6489-4fb8-9272-a0847a06e9c2\">\n",
              "    <div class=\"colab-df-container\">\n",
              "      <div>\n",
              "<style scoped>\n",
              "    .dataframe tbody tr th:only-of-type {\n",
              "        vertical-align: middle;\n",
              "    }\n",
              "\n",
              "    .dataframe tbody tr th {\n",
              "        vertical-align: top;\n",
              "    }\n",
              "\n",
              "    .dataframe thead th {\n",
              "        text-align: right;\n",
              "    }\n",
              "</style>\n",
              "<table border=\"1\" class=\"dataframe\">\n",
              "  <thead>\n",
              "    <tr style=\"text-align: right;\">\n",
              "      <th></th>\n",
              "      <th>Gender_Female</th>\n",
              "      <th>Gender_Male</th>\n",
              "      <th>Region_Code_0.0</th>\n",
              "      <th>Region_Code_1.0</th>\n",
              "      <th>Region_Code_2.0</th>\n",
              "      <th>Region_Code_3.0</th>\n",
              "      <th>Region_Code_4.0</th>\n",
              "      <th>Region_Code_5.0</th>\n",
              "      <th>Region_Code_6.0</th>\n",
              "      <th>Region_Code_7.0</th>\n",
              "      <th>...</th>\n",
              "      <th>Policy_Sales_Channel_152.0</th>\n",
              "      <th>Policy_Sales_Channel_153.0</th>\n",
              "      <th>Policy_Sales_Channel_154.0</th>\n",
              "      <th>Policy_Sales_Channel_155.0</th>\n",
              "      <th>Policy_Sales_Channel_156.0</th>\n",
              "      <th>Policy_Sales_Channel_157.0</th>\n",
              "      <th>Policy_Sales_Channel_158.0</th>\n",
              "      <th>Policy_Sales_Channel_159.0</th>\n",
              "      <th>Policy_Sales_Channel_160.0</th>\n",
              "      <th>Policy_Sales_Channel_163.0</th>\n",
              "    </tr>\n",
              "  </thead>\n",
              "  <tbody>\n",
              "    <tr>\n",
              "      <th>0</th>\n",
              "      <td>0.0</td>\n",
              "      <td>1.0</td>\n",
              "      <td>0.0</td>\n",
              "      <td>0.0</td>\n",
              "      <td>0.0</td>\n",
              "      <td>0.0</td>\n",
              "      <td>0.0</td>\n",
              "      <td>0.0</td>\n",
              "      <td>0.0</td>\n",
              "      <td>0.0</td>\n",
              "      <td>...</td>\n",
              "      <td>0.0</td>\n",
              "      <td>0.0</td>\n",
              "      <td>0.0</td>\n",
              "      <td>0.0</td>\n",
              "      <td>0.0</td>\n",
              "      <td>0.0</td>\n",
              "      <td>0.0</td>\n",
              "      <td>0.0</td>\n",
              "      <td>0.0</td>\n",
              "      <td>0.0</td>\n",
              "    </tr>\n",
              "    <tr>\n",
              "      <th>1</th>\n",
              "      <td>0.0</td>\n",
              "      <td>1.0</td>\n",
              "      <td>0.0</td>\n",
              "      <td>0.0</td>\n",
              "      <td>0.0</td>\n",
              "      <td>1.0</td>\n",
              "      <td>0.0</td>\n",
              "      <td>0.0</td>\n",
              "      <td>0.0</td>\n",
              "      <td>0.0</td>\n",
              "      <td>...</td>\n",
              "      <td>0.0</td>\n",
              "      <td>0.0</td>\n",
              "      <td>0.0</td>\n",
              "      <td>0.0</td>\n",
              "      <td>0.0</td>\n",
              "      <td>0.0</td>\n",
              "      <td>0.0</td>\n",
              "      <td>0.0</td>\n",
              "      <td>0.0</td>\n",
              "      <td>0.0</td>\n",
              "    </tr>\n",
              "    <tr>\n",
              "      <th>2</th>\n",
              "      <td>0.0</td>\n",
              "      <td>1.0</td>\n",
              "      <td>0.0</td>\n",
              "      <td>0.0</td>\n",
              "      <td>0.0</td>\n",
              "      <td>0.0</td>\n",
              "      <td>0.0</td>\n",
              "      <td>0.0</td>\n",
              "      <td>0.0</td>\n",
              "      <td>0.0</td>\n",
              "      <td>...</td>\n",
              "      <td>0.0</td>\n",
              "      <td>0.0</td>\n",
              "      <td>0.0</td>\n",
              "      <td>0.0</td>\n",
              "      <td>0.0</td>\n",
              "      <td>0.0</td>\n",
              "      <td>0.0</td>\n",
              "      <td>0.0</td>\n",
              "      <td>0.0</td>\n",
              "      <td>0.0</td>\n",
              "    </tr>\n",
              "    <tr>\n",
              "      <th>3</th>\n",
              "      <td>0.0</td>\n",
              "      <td>1.0</td>\n",
              "      <td>0.0</td>\n",
              "      <td>0.0</td>\n",
              "      <td>0.0</td>\n",
              "      <td>0.0</td>\n",
              "      <td>0.0</td>\n",
              "      <td>0.0</td>\n",
              "      <td>0.0</td>\n",
              "      <td>0.0</td>\n",
              "      <td>...</td>\n",
              "      <td>1.0</td>\n",
              "      <td>0.0</td>\n",
              "      <td>0.0</td>\n",
              "      <td>0.0</td>\n",
              "      <td>0.0</td>\n",
              "      <td>0.0</td>\n",
              "      <td>0.0</td>\n",
              "      <td>0.0</td>\n",
              "      <td>0.0</td>\n",
              "      <td>0.0</td>\n",
              "    </tr>\n",
              "    <tr>\n",
              "      <th>4</th>\n",
              "      <td>1.0</td>\n",
              "      <td>0.0</td>\n",
              "      <td>0.0</td>\n",
              "      <td>0.0</td>\n",
              "      <td>0.0</td>\n",
              "      <td>0.0</td>\n",
              "      <td>0.0</td>\n",
              "      <td>0.0</td>\n",
              "      <td>0.0</td>\n",
              "      <td>0.0</td>\n",
              "      <td>...</td>\n",
              "      <td>1.0</td>\n",
              "      <td>0.0</td>\n",
              "      <td>0.0</td>\n",
              "      <td>0.0</td>\n",
              "      <td>0.0</td>\n",
              "      <td>0.0</td>\n",
              "      <td>0.0</td>\n",
              "      <td>0.0</td>\n",
              "      <td>0.0</td>\n",
              "      <td>0.0</td>\n",
              "    </tr>\n",
              "    <tr>\n",
              "      <th>...</th>\n",
              "      <td>...</td>\n",
              "      <td>...</td>\n",
              "      <td>...</td>\n",
              "      <td>...</td>\n",
              "      <td>...</td>\n",
              "      <td>...</td>\n",
              "      <td>...</td>\n",
              "      <td>...</td>\n",
              "      <td>...</td>\n",
              "      <td>...</td>\n",
              "      <td>...</td>\n",
              "      <td>...</td>\n",
              "      <td>...</td>\n",
              "      <td>...</td>\n",
              "      <td>...</td>\n",
              "      <td>...</td>\n",
              "      <td>...</td>\n",
              "      <td>...</td>\n",
              "      <td>...</td>\n",
              "      <td>...</td>\n",
              "      <td>...</td>\n",
              "    </tr>\n",
              "    <tr>\n",
              "      <th>508141</th>\n",
              "      <td>1.0</td>\n",
              "      <td>0.0</td>\n",
              "      <td>0.0</td>\n",
              "      <td>0.0</td>\n",
              "      <td>0.0</td>\n",
              "      <td>0.0</td>\n",
              "      <td>0.0</td>\n",
              "      <td>0.0</td>\n",
              "      <td>0.0</td>\n",
              "      <td>0.0</td>\n",
              "      <td>...</td>\n",
              "      <td>1.0</td>\n",
              "      <td>0.0</td>\n",
              "      <td>0.0</td>\n",
              "      <td>0.0</td>\n",
              "      <td>0.0</td>\n",
              "      <td>0.0</td>\n",
              "      <td>0.0</td>\n",
              "      <td>0.0</td>\n",
              "      <td>0.0</td>\n",
              "      <td>0.0</td>\n",
              "    </tr>\n",
              "    <tr>\n",
              "      <th>508142</th>\n",
              "      <td>1.0</td>\n",
              "      <td>0.0</td>\n",
              "      <td>0.0</td>\n",
              "      <td>0.0</td>\n",
              "      <td>0.0</td>\n",
              "      <td>0.0</td>\n",
              "      <td>0.0</td>\n",
              "      <td>0.0</td>\n",
              "      <td>0.0</td>\n",
              "      <td>0.0</td>\n",
              "      <td>...</td>\n",
              "      <td>0.0</td>\n",
              "      <td>0.0</td>\n",
              "      <td>0.0</td>\n",
              "      <td>0.0</td>\n",
              "      <td>0.0</td>\n",
              "      <td>0.0</td>\n",
              "      <td>0.0</td>\n",
              "      <td>0.0</td>\n",
              "      <td>0.0</td>\n",
              "      <td>0.0</td>\n",
              "    </tr>\n",
              "    <tr>\n",
              "      <th>508143</th>\n",
              "      <td>0.0</td>\n",
              "      <td>1.0</td>\n",
              "      <td>0.0</td>\n",
              "      <td>0.0</td>\n",
              "      <td>0.0</td>\n",
              "      <td>0.0</td>\n",
              "      <td>0.0</td>\n",
              "      <td>0.0</td>\n",
              "      <td>0.0</td>\n",
              "      <td>0.0</td>\n",
              "      <td>...</td>\n",
              "      <td>1.0</td>\n",
              "      <td>0.0</td>\n",
              "      <td>0.0</td>\n",
              "      <td>0.0</td>\n",
              "      <td>0.0</td>\n",
              "      <td>0.0</td>\n",
              "      <td>0.0</td>\n",
              "      <td>0.0</td>\n",
              "      <td>0.0</td>\n",
              "      <td>0.0</td>\n",
              "    </tr>\n",
              "    <tr>\n",
              "      <th>508144</th>\n",
              "      <td>0.0</td>\n",
              "      <td>1.0</td>\n",
              "      <td>0.0</td>\n",
              "      <td>0.0</td>\n",
              "      <td>0.0</td>\n",
              "      <td>0.0</td>\n",
              "      <td>0.0</td>\n",
              "      <td>0.0</td>\n",
              "      <td>0.0</td>\n",
              "      <td>0.0</td>\n",
              "      <td>...</td>\n",
              "      <td>0.0</td>\n",
              "      <td>0.0</td>\n",
              "      <td>0.0</td>\n",
              "      <td>0.0</td>\n",
              "      <td>0.0</td>\n",
              "      <td>0.0</td>\n",
              "      <td>0.0</td>\n",
              "      <td>0.0</td>\n",
              "      <td>0.0</td>\n",
              "      <td>0.0</td>\n",
              "    </tr>\n",
              "    <tr>\n",
              "      <th>508145</th>\n",
              "      <td>0.0</td>\n",
              "      <td>1.0</td>\n",
              "      <td>0.0</td>\n",
              "      <td>0.0</td>\n",
              "      <td>0.0</td>\n",
              "      <td>0.0</td>\n",
              "      <td>0.0</td>\n",
              "      <td>0.0</td>\n",
              "      <td>0.0</td>\n",
              "      <td>0.0</td>\n",
              "      <td>...</td>\n",
              "      <td>0.0</td>\n",
              "      <td>0.0</td>\n",
              "      <td>0.0</td>\n",
              "      <td>0.0</td>\n",
              "      <td>0.0</td>\n",
              "      <td>0.0</td>\n",
              "      <td>0.0</td>\n",
              "      <td>0.0</td>\n",
              "      <td>0.0</td>\n",
              "      <td>0.0</td>\n",
              "    </tr>\n",
              "  </tbody>\n",
              "</table>\n",
              "<p>508146 rows × 212 columns</p>\n",
              "</div>\n",
              "      <button class=\"colab-df-convert\" onclick=\"convertToInteractive('df-dbe6ee4e-6489-4fb8-9272-a0847a06e9c2')\"\n",
              "              title=\"Convert this dataframe to an interactive table.\"\n",
              "              style=\"display:none;\">\n",
              "        \n",
              "  <svg xmlns=\"http://www.w3.org/2000/svg\" height=\"24px\"viewBox=\"0 0 24 24\"\n",
              "       width=\"24px\">\n",
              "    <path d=\"M0 0h24v24H0V0z\" fill=\"none\"/>\n",
              "    <path d=\"M18.56 5.44l.94 2.06.94-2.06 2.06-.94-2.06-.94-.94-2.06-.94 2.06-2.06.94zm-11 1L8.5 8.5l.94-2.06 2.06-.94-2.06-.94L8.5 2.5l-.94 2.06-2.06.94zm10 10l.94 2.06.94-2.06 2.06-.94-2.06-.94-.94-2.06-.94 2.06-2.06.94z\"/><path d=\"M17.41 7.96l-1.37-1.37c-.4-.4-.92-.59-1.43-.59-.52 0-1.04.2-1.43.59L10.3 9.45l-7.72 7.72c-.78.78-.78 2.05 0 2.83L4 21.41c.39.39.9.59 1.41.59.51 0 1.02-.2 1.41-.59l7.78-7.78 2.81-2.81c.8-.78.8-2.07 0-2.86zM5.41 20L4 18.59l7.72-7.72 1.47 1.35L5.41 20z\"/>\n",
              "  </svg>\n",
              "      </button>\n",
              "      \n",
              "  <style>\n",
              "    .colab-df-container {\n",
              "      display:flex;\n",
              "      flex-wrap:wrap;\n",
              "      gap: 12px;\n",
              "    }\n",
              "\n",
              "    .colab-df-convert {\n",
              "      background-color: #E8F0FE;\n",
              "      border: none;\n",
              "      border-radius: 50%;\n",
              "      cursor: pointer;\n",
              "      display: none;\n",
              "      fill: #1967D2;\n",
              "      height: 32px;\n",
              "      padding: 0 0 0 0;\n",
              "      width: 32px;\n",
              "    }\n",
              "\n",
              "    .colab-df-convert:hover {\n",
              "      background-color: #E2EBFA;\n",
              "      box-shadow: 0px 1px 2px rgba(60, 64, 67, 0.3), 0px 1px 3px 1px rgba(60, 64, 67, 0.15);\n",
              "      fill: #174EA6;\n",
              "    }\n",
              "\n",
              "    [theme=dark] .colab-df-convert {\n",
              "      background-color: #3B4455;\n",
              "      fill: #D2E3FC;\n",
              "    }\n",
              "\n",
              "    [theme=dark] .colab-df-convert:hover {\n",
              "      background-color: #434B5C;\n",
              "      box-shadow: 0px 1px 3px 1px rgba(0, 0, 0, 0.15);\n",
              "      filter: drop-shadow(0px 1px 2px rgba(0, 0, 0, 0.3));\n",
              "      fill: #FFFFFF;\n",
              "    }\n",
              "  </style>\n",
              "\n",
              "      <script>\n",
              "        const buttonEl =\n",
              "          document.querySelector('#df-dbe6ee4e-6489-4fb8-9272-a0847a06e9c2 button.colab-df-convert');\n",
              "        buttonEl.style.display =\n",
              "          google.colab.kernel.accessAllowed ? 'block' : 'none';\n",
              "\n",
              "        async function convertToInteractive(key) {\n",
              "          const element = document.querySelector('#df-dbe6ee4e-6489-4fb8-9272-a0847a06e9c2');\n",
              "          const dataTable =\n",
              "            await google.colab.kernel.invokeFunction('convertToInteractive',\n",
              "                                                     [key], {});\n",
              "          if (!dataTable) return;\n",
              "\n",
              "          const docLinkHtml = 'Like what you see? Visit the ' +\n",
              "            '<a target=\"_blank\" href=https://colab.research.google.com/notebooks/data_table.ipynb>data table notebook</a>'\n",
              "            + ' to learn more about interactive tables.';\n",
              "          element.innerHTML = '';\n",
              "          dataTable['output_type'] = 'display_data';\n",
              "          await google.colab.output.renderOutput(dataTable, element);\n",
              "          const docLink = document.createElement('div');\n",
              "          docLink.innerHTML = docLinkHtml;\n",
              "          element.appendChild(docLink);\n",
              "        }\n",
              "      </script>\n",
              "    </div>\n",
              "  </div>\n",
              "  "
            ]
          },
          "metadata": {},
          "execution_count": 18
        }
      ]
    },
    {
      "cell_type": "code",
      "source": [
        "df['Vehicle_Age'] = df['Vehicle_Age'].map({'< 1 Year':1,'1-2 Year':2,'> 2 Years':3})\n",
        "df['Vehicle_Damage'] = df['Vehicle_Damage'].map({'Yes':1,'No':0})\n"
      ],
      "metadata": {
        "execution": {
          "iopub.status.busy": "2022-12-22T17:09:17.304658Z",
          "iopub.execute_input": "2022-12-22T17:09:17.305051Z",
          "iopub.status.idle": "2022-12-22T17:09:17.401650Z",
          "shell.execute_reply.started": "2022-12-22T17:09:17.305018Z",
          "shell.execute_reply": "2022-12-22T17:09:17.400363Z"
        },
        "trusted": true,
        "id": "9maAqCfCfoVc"
      },
      "execution_count": null,
      "outputs": []
    },
    {
      "cell_type": "code",
      "source": [
        "df_final = pd.concat([df.reset_index(), data_en.reset_index()], axis = 1)"
      ],
      "metadata": {
        "execution": {
          "iopub.status.busy": "2022-12-22T17:09:17.403044Z",
          "iopub.execute_input": "2022-12-22T17:09:17.403377Z",
          "iopub.status.idle": "2022-12-22T17:09:20.486714Z",
          "shell.execute_reply.started": "2022-12-22T17:09:17.403331Z",
          "shell.execute_reply": "2022-12-22T17:09:20.485710Z"
        },
        "trusted": true,
        "id": "y0gWup6SfoVd"
      },
      "execution_count": null,
      "outputs": []
    },
    {
      "cell_type": "code",
      "source": [
        "df_final.drop(['Gender','Region_Code', 'Policy_Sales_Channel'], axis = 1, inplace = True)"
      ],
      "metadata": {
        "execution": {
          "iopub.status.busy": "2022-12-22T17:09:20.487905Z",
          "iopub.execute_input": "2022-12-22T17:09:20.488209Z",
          "iopub.status.idle": "2022-12-22T17:09:21.406496Z",
          "shell.execute_reply.started": "2022-12-22T17:09:20.488182Z",
          "shell.execute_reply": "2022-12-22T17:09:21.405309Z"
        },
        "trusted": true,
        "id": "D4l8yLDqfoVe"
      },
      "execution_count": null,
      "outputs": []
    },
    {
      "cell_type": "code",
      "source": [
        "df_final.shape"
      ],
      "metadata": {
        "execution": {
          "iopub.status.busy": "2022-12-22T17:09:21.407841Z",
          "iopub.execute_input": "2022-12-22T17:09:21.408182Z",
          "iopub.status.idle": "2022-12-22T17:09:21.414936Z",
          "shell.execute_reply.started": "2022-12-22T17:09:21.408151Z",
          "shell.execute_reply": "2022-12-22T17:09:21.413777Z"
        },
        "trusted": true,
        "colab": {
          "base_uri": "https://localhost:8080/"
        },
        "id": "quyE4iNOfoVf",
        "outputId": "82d19ff0-23ab-4a6e-9f04-27990aa45f40"
      },
      "execution_count": null,
      "outputs": [
        {
          "output_type": "execute_result",
          "data": {
            "text/plain": [
              "(508146, 223)"
            ]
          },
          "metadata": {},
          "execution_count": 22
        }
      ]
    },
    {
      "cell_type": "code",
      "source": [
        "trainscale = df_final[df_final['source'] == 'train'].drop('source', axis = 1)\n",
        "testscale = df_final[df_final['source'] == 'test'].drop('source', axis = 1)"
      ],
      "metadata": {
        "execution": {
          "iopub.status.busy": "2022-12-22T17:09:21.416165Z",
          "iopub.execute_input": "2022-12-22T17:09:21.416559Z",
          "iopub.status.idle": "2022-12-22T17:09:22.320284Z",
          "shell.execute_reply.started": "2022-12-22T17:09:21.416508Z",
          "shell.execute_reply": "2022-12-22T17:09:22.319272Z"
        },
        "trusted": true,
        "id": "H6IhLr8jfoVg"
      },
      "execution_count": null,
      "outputs": []
    },
    {
      "cell_type": "code",
      "source": [
        "cat_features = ['Driving_License','Region_Code','Previously_Insured',\n",
        "                'Vehicle_Age','Vehicle_Damage','Policy_Sales_Channel','Vintage','Female','Male']"
      ],
      "metadata": {
        "execution": {
          "iopub.status.busy": "2022-12-22T17:09:22.321566Z",
          "iopub.execute_input": "2022-12-22T17:09:22.321994Z",
          "iopub.status.idle": "2022-12-22T17:09:22.327241Z",
          "shell.execute_reply.started": "2022-12-22T17:09:22.321964Z",
          "shell.execute_reply": "2022-12-22T17:09:22.326098Z"
        },
        "trusted": true,
        "id": "MXLTQKPMfoVh"
      },
      "execution_count": null,
      "outputs": []
    },
    {
      "cell_type": "code",
      "source": [
        "pip install CatBoost"
      ],
      "metadata": {
        "colab": {
          "base_uri": "https://localhost:8080/"
        },
        "id": "Zerxy1JNlRqv",
        "outputId": "6f00e982-5a90-4cdb-8317-13edff40eda8"
      },
      "execution_count": null,
      "outputs": [
        {
          "output_type": "stream",
          "name": "stdout",
          "text": [
            "Looking in indexes: https://pypi.org/simple, https://us-python.pkg.dev/colab-wheels/public/simple/\n",
            "Requirement already satisfied: CatBoost in /usr/local/lib/python3.8/dist-packages (1.1.1)\n",
            "Requirement already satisfied: pandas>=0.24.0 in /usr/local/lib/python3.8/dist-packages (from CatBoost) (1.3.5)\n",
            "Requirement already satisfied: six in /usr/local/lib/python3.8/dist-packages (from CatBoost) (1.15.0)\n",
            "Requirement already satisfied: plotly in /usr/local/lib/python3.8/dist-packages (from CatBoost) (5.5.0)\n",
            "Requirement already satisfied: numpy>=1.16.0 in /usr/local/lib/python3.8/dist-packages (from CatBoost) (1.21.6)\n",
            "Requirement already satisfied: scipy in /usr/local/lib/python3.8/dist-packages (from CatBoost) (1.7.3)\n",
            "Requirement already satisfied: graphviz in /usr/local/lib/python3.8/dist-packages (from CatBoost) (0.10.1)\n",
            "Requirement already satisfied: matplotlib in /usr/local/lib/python3.8/dist-packages (from CatBoost) (3.2.2)\n",
            "Requirement already satisfied: pytz>=2017.3 in /usr/local/lib/python3.8/dist-packages (from pandas>=0.24.0->CatBoost) (2022.6)\n",
            "Requirement already satisfied: python-dateutil>=2.7.3 in /usr/local/lib/python3.8/dist-packages (from pandas>=0.24.0->CatBoost) (2.8.2)\n",
            "Requirement already satisfied: pyparsing!=2.0.4,!=2.1.2,!=2.1.6,>=2.0.1 in /usr/local/lib/python3.8/dist-packages (from matplotlib->CatBoost) (3.0.9)\n",
            "Requirement already satisfied: cycler>=0.10 in /usr/local/lib/python3.8/dist-packages (from matplotlib->CatBoost) (0.11.0)\n",
            "Requirement already satisfied: kiwisolver>=1.0.1 in /usr/local/lib/python3.8/dist-packages (from matplotlib->CatBoost) (1.4.4)\n",
            "Requirement already satisfied: tenacity>=6.2.0 in /usr/local/lib/python3.8/dist-packages (from plotly->CatBoost) (8.1.0)\n"
          ]
        }
      ]
    },
    {
      "cell_type": "code",
      "source": [
        "from sklearn.model_selection import train_test_split\n",
        "from imblearn.over_sampling import SMOTEN\n",
        "from catboost import CatBoostClassifier\n",
        "from sklearn.linear_model import LogisticRegression\n",
        "from sklearn.pipeline import make_pipeline\n",
        "X_train, X_test, y_train, y_test = train_test_split(trainscale.drop('Response', axis = 1), trainscale['Response'], random_state=42)\n",
        "sampler = SMOTEN(random_state=1)"
      ],
      "metadata": {
        "execution": {
          "iopub.status.busy": "2022-12-22T17:09:25.448525Z",
          "iopub.execute_input": "2022-12-22T17:09:25.448971Z",
          "iopub.status.idle": "2022-12-22T17:09:26.390666Z",
          "shell.execute_reply.started": "2022-12-22T17:09:25.448934Z",
          "shell.execute_reply": "2022-12-22T17:09:26.389421Z"
        },
        "trusted": true,
        "id": "bDOQW19LfoVh"
      },
      "execution_count": null,
      "outputs": []
    },
    {
      "cell_type": "code",
      "source": [
        "#sampler.fit_resample(X_train, y_train)"
      ],
      "metadata": {
        "execution": {
          "iopub.status.busy": "2022-12-22T17:09:57.059329Z",
          "iopub.execute_input": "2022-12-22T17:09:57.059812Z",
          "iopub.status.idle": "2022-12-22T17:10:28.040534Z",
          "shell.execute_reply.started": "2022-12-22T17:09:57.059771Z",
          "shell.execute_reply": "2022-12-22T17:10:28.038623Z"
        },
        "trusted": true,
        "id": "0SVtRv0gfoVl"
      },
      "execution_count": null,
      "outputs": []
    },
    {
      "cell_type": "code",
      "source": [
        "pipeline = make_pipeline(RobustScaler(),CatBoostClassifier(iterations = 1000, \n",
        "                        learning_rate=0.02,\n",
        "                        depth=8,\n",
        "                        loss_function='Logloss',\n",
        "                        eval_metric='Logloss',\n",
        "                        leaf_estimation_method='Newton',\n",
        "                        random_state = 1,\n",
        "                        subsample = 0.9,\n",
        "                        rsm = 0.8))"
      ],
      "metadata": {
        "execution": {
          "iopub.status.busy": "2022-12-22T17:12:50.436921Z",
          "iopub.execute_input": "2022-12-22T17:12:50.438115Z",
          "iopub.status.idle": "2022-12-22T17:12:50.446701Z",
          "shell.execute_reply.started": "2022-12-22T17:12:50.438073Z",
          "shell.execute_reply": "2022-12-22T17:12:50.444945Z"
        },
        "trusted": true,
        "id": "_ZkscO8qfoVm"
      },
      "execution_count": null,
      "outputs": []
    },
    {
      "cell_type": "code",
      "source": [
        "model = make_pipeline(RobustScaler(), LogisticRegression())"
      ],
      "metadata": {
        "id": "U8E6UlsanM7y"
      },
      "execution_count": null,
      "outputs": []
    },
    {
      "cell_type": "code",
      "source": [
        "from tqdm import tqdm\n",
        "pipeline.fit(X_train, y_train)"
      ],
      "metadata": {
        "execution": {
          "iopub.status.busy": "2022-12-22T17:12:54.106492Z",
          "iopub.execute_input": "2022-12-22T17:12:54.106979Z",
          "iopub.status.idle": "2022-12-22T17:13:49.762523Z",
          "shell.execute_reply.started": "2022-12-22T17:12:54.106941Z",
          "shell.execute_reply": "2022-12-22T17:13:49.761380Z"
        },
        "trusted": true,
        "id": "R2rFJdoRfoVm"
      },
      "execution_count": null,
      "outputs": []
    },
    {
      "cell_type": "code",
      "source": [
        "from sklearn.metrics import roc_curve\n",
        "from sklearn.metrics import RocCurveDisplay"
      ],
      "metadata": {
        "id": "uJ0M-I-FqUKP"
      },
      "execution_count": null,
      "outputs": []
    },
    {
      "cell_type": "code",
      "source": [
        "def Results(clf, X_train, y_train):\n",
        "  clf.fit(X_train, y_train)\n",
        "  ypred = clf.predict(X_train)\n",
        "  print('The accuracy score for train:', accuracy_score(y_train, ypred))\n",
        "  print(classification_report(y_train, ypred))\n",
        "  ytest_pred = clf.predict(X_test)\n",
        "  print('The accuracy score for test:', accuracy_score(y_test, ytest_pred))\n",
        "  print(classification_report(y_test,ytest_pred))\n",
        "  y_score = clf.decision_function(X_test)\n",
        "  print('ROC_AUC score',roc_auc_score(y_test, y_score))\n",
        "  fpr, tpr, _ = roc_curve(y_test, y_score, pos_label=clf.classes_[1])\n",
        "  roc_display = RocCurveDisplay(fpr=fpr, tpr=tpr).plot(label=\"data 1, auc=\"+str(auc))\n",
        "  plt.legend(loc=4)\n"
      ],
      "metadata": {
        "id": "ltFlsDeenfl5"
      },
      "execution_count": null,
      "outputs": []
    },
    {
      "cell_type": "code",
      "source": [
        "Results(model,X_train, y_train)"
      ],
      "metadata": {
        "colab": {
          "base_uri": "https://localhost:8080/",
          "height": 782
        },
        "id": "-PLjkowjqXTh",
        "outputId": "dcfa39f7-b758-47df-f3da-06f322873704"
      },
      "execution_count": null,
      "outputs": [
        {
          "output_type": "stream",
          "name": "stderr",
          "text": [
            "/usr/local/lib/python3.8/dist-packages/sklearn/linear_model/_logistic.py:814: ConvergenceWarning: lbfgs failed to converge (status=1):\n",
            "STOP: TOTAL NO. of ITERATIONS REACHED LIMIT.\n",
            "\n",
            "Increase the number of iterations (max_iter) or scale the data as shown in:\n",
            "    https://scikit-learn.org/stable/modules/preprocessing.html\n",
            "Please also refer to the documentation for alternative solver options:\n",
            "    https://scikit-learn.org/stable/modules/linear_model.html#logistic-regression\n",
            "  n_iter_i = _check_optimize_result(\n"
          ]
        },
        {
          "output_type": "stream",
          "name": "stdout",
          "text": [
            "The accuracy score for train: 0.8776269893748404\n",
            "              precision    recall  f1-score   support\n",
            "\n",
            "         0.0       0.88      1.00      0.93    250886\n",
            "         1.0       0.35      0.00      0.00     34945\n",
            "\n",
            "    accuracy                           0.88    285831\n",
            "   macro avg       0.61      0.50      0.47    285831\n",
            "weighted avg       0.81      0.88      0.82    285831\n",
            "\n",
            "The accuracy score for test: 0.8764772560297236\n",
            "              precision    recall  f1-score   support\n",
            "\n",
            "         0.0       0.88      1.00      0.93     83513\n",
            "         1.0       0.42      0.00      0.00     11765\n",
            "\n",
            "    accuracy                           0.88     95278\n",
            "   macro avg       0.65      0.50      0.47     95278\n",
            "weighted avg       0.82      0.88      0.82     95278\n",
            "\n",
            "ROC_AUC score 0.8520791465143862\n"
          ]
        },
        {
          "output_type": "display_data",
          "data": {
            "text/plain": [
              "<Figure size 432x288 with 1 Axes>"
            ],
            "image/png": "[encoded data removed]"
          },
          "metadata": {
            "needs_background": "light"
          }
        }
      ]
    },
    {
      "cell_type": "code",
      "source": [
        "pip install xgboost"
      ],
      "metadata": {
        "colab": {
          "base_uri": "https://localhost:8080/"
        },
        "id": "trCTpr9s0Uo9",
        "outputId": "c92ace5c-08a7-4956-ebe7-d13d8d16fbfe"
      },
      "execution_count": null,
      "outputs": [
        {
          "output_type": "stream",
          "name": "stdout",
          "text": [
            "Looking in indexes: https://pypi.org/simple, https://us-python.pkg.dev/colab-wheels/public/simple/\n",
            "Requirement already satisfied: xgboost in /usr/local/lib/python3.8/dist-packages (0.90)\n",
            "Requirement already satisfied: scipy in /usr/local/lib/python3.8/dist-packages (from xgboost) (1.7.3)\n",
            "Requirement already satisfied: numpy in /usr/local/lib/python3.8/dist-packages (from xgboost) (1.21.6)\n"
          ]
        }
      ]
    },
    {
      "cell_type": "code",
      "source": [
        "from xgboost import XGBClassifier\n",
        "bst = make_pipeline(RobustScaler() ,XGBClassifier(n_estimators=10, max_depth=2, learning_rate=1, objective='binary:logistic'))"
      ],
      "metadata": {
        "id": "Y_m3RBdz0NDm"
      },
      "execution_count": null,
      "outputs": []
    },
    {
      "cell_type": "code",
      "source": [
        "Results(bst, X_train, y_train)"
      ],
      "metadata": {
        "colab": {
          "base_uri": "https://localhost:8080/",
          "height": 658
        },
        "id": "dYYqixdS0ztg",
        "outputId": "59f74b54-0161-412a-a8bc-acdae8367eee"
      },
      "execution_count": null,
      "outputs": [
        {
          "output_type": "stream",
          "name": "stdout",
          "text": [
            "The accuracy score for train: 0.877728447929021\n",
            "              precision    recall  f1-score   support\n",
            "\n",
            "         0.0       0.88      1.00      0.93    250886\n",
            "         1.0       0.47      0.00      0.00     34945\n",
            "\n",
            "    accuracy                           0.88    285831\n",
            "   macro avg       0.67      0.50      0.47    285831\n",
            "weighted avg       0.83      0.88      0.82    285831\n",
            "\n",
            "The accuracy score for test: 0.8764037868133252\n",
            "              precision    recall  f1-score   support\n",
            "\n",
            "         0.0       0.88      1.00      0.93     83513\n",
            "         1.0       0.26      0.00      0.00     11765\n",
            "\n",
            "    accuracy                           0.88     95278\n",
            "   macro avg       0.57      0.50      0.47     95278\n",
            "weighted avg       0.80      0.88      0.82     95278\n",
            "\n"
          ]
        },
        {
          "output_type": "error",
          "ename": "AttributeError",
          "evalue": "ignored",
          "traceback": [
            "\u001b[0;31m---------------------------------------------------------------------------\u001b[0m",
            "\u001b[0;31mAttributeError\u001b[0m                            Traceback (most recent call last)",
            "\u001b[0;32m<ipython-input-76-a26b41a99250>\u001b[0m in \u001b[0;36m<module>\u001b[0;34m\u001b[0m\n\u001b[0;32m----> 1\u001b[0;31m \u001b[0mResults\u001b[0m\u001b[0;34m(\u001b[0m\u001b[0mbst\u001b[0m\u001b[0;34m,\u001b[0m \u001b[0mX_train\u001b[0m\u001b[0;34m,\u001b[0m \u001b[0my_train\u001b[0m\u001b[0;34m)\u001b[0m\u001b[0;34m\u001b[0m\u001b[0;34m\u001b[0m\u001b[0m\n\u001b[0m",
            "\u001b[0;32m<ipython-input-66-9e75f553516a>\u001b[0m in \u001b[0;36mResults\u001b[0;34m(clf, X_train, y_train)\u001b[0m\n\u001b[1;32m      8\u001b[0m   \u001b[0mprint\u001b[0m\u001b[0;34m(\u001b[0m\u001b[0;34m'The accuracy score for test:'\u001b[0m\u001b[0;34m,\u001b[0m \u001b[0maccuracy_score\u001b[0m\u001b[0;34m(\u001b[0m\u001b[0my_test\u001b[0m\u001b[0;34m,\u001b[0m \u001b[0mytest_pred\u001b[0m\u001b[0;34m)\u001b[0m\u001b[0;34m)\u001b[0m\u001b[0;34m\u001b[0m\u001b[0;34m\u001b[0m\u001b[0m\n\u001b[1;32m      9\u001b[0m   \u001b[0mprint\u001b[0m\u001b[0;34m(\u001b[0m\u001b[0mclassification_report\u001b[0m\u001b[0;34m(\u001b[0m\u001b[0my_test\u001b[0m\u001b[0;34m,\u001b[0m\u001b[0mytest_pred\u001b[0m\u001b[0;34m)\u001b[0m\u001b[0;34m)\u001b[0m\u001b[0;34m\u001b[0m\u001b[0;34m\u001b[0m\u001b[0m\n\u001b[0;32m---> 10\u001b[0;31m   \u001b[0my_score\u001b[0m \u001b[0;34m=\u001b[0m \u001b[0mclf\u001b[0m\u001b[0;34m.\u001b[0m\u001b[0mdecision_function\u001b[0m\u001b[0;34m(\u001b[0m\u001b[0mX_test\u001b[0m\u001b[0;34m)\u001b[0m\u001b[0;34m\u001b[0m\u001b[0;34m\u001b[0m\u001b[0m\n\u001b[0m\u001b[1;32m     11\u001b[0m   \u001b[0mprint\u001b[0m\u001b[0;34m(\u001b[0m\u001b[0;34m'ROC_AUC score'\u001b[0m\u001b[0;34m,\u001b[0m\u001b[0mroc_auc_score\u001b[0m\u001b[0;34m(\u001b[0m\u001b[0my_test\u001b[0m\u001b[0;34m,\u001b[0m \u001b[0my_score\u001b[0m\u001b[0;34m)\u001b[0m\u001b[0;34m)\u001b[0m\u001b[0;34m\u001b[0m\u001b[0;34m\u001b[0m\u001b[0m\n\u001b[1;32m     12\u001b[0m   \u001b[0mfpr\u001b[0m\u001b[0;34m,\u001b[0m \u001b[0mtpr\u001b[0m\u001b[0;34m,\u001b[0m \u001b[0m_\u001b[0m \u001b[0;34m=\u001b[0m \u001b[0mroc_curve\u001b[0m\u001b[0;34m(\u001b[0m\u001b[0my_test\u001b[0m\u001b[0;34m,\u001b[0m \u001b[0my_score\u001b[0m\u001b[0;34m,\u001b[0m \u001b[0mpos_label\u001b[0m\u001b[0;34m=\u001b[0m\u001b[0mclf\u001b[0m\u001b[0;34m.\u001b[0m\u001b[0mclasses_\u001b[0m\u001b[0;34m[\u001b[0m\u001b[0;36m1\u001b[0m\u001b[0;34m]\u001b[0m\u001b[0;34m)\u001b[0m\u001b[0;34m\u001b[0m\u001b[0;34m\u001b[0m\u001b[0m\n",
            "\u001b[0;32m/usr/local/lib/python3.8/dist-packages/sklearn/utils/metaestimators.py\u001b[0m in \u001b[0;36m__get__\u001b[0;34m(self, obj, owner)\u001b[0m\n\u001b[1;32m    107\u001b[0m             \u001b[0;31m# delegate only on instances, not the classes.\u001b[0m\u001b[0;34m\u001b[0m\u001b[0;34m\u001b[0m\u001b[0;34m\u001b[0m\u001b[0m\n\u001b[1;32m    108\u001b[0m             \u001b[0;31m# this is to allow access to the docstrings.\u001b[0m\u001b[0;34m\u001b[0m\u001b[0;34m\u001b[0m\u001b[0;34m\u001b[0m\u001b[0m\n\u001b[0;32m--> 109\u001b[0;31m             \u001b[0;32mif\u001b[0m \u001b[0;32mnot\u001b[0m \u001b[0mself\u001b[0m\u001b[0;34m.\u001b[0m\u001b[0mcheck\u001b[0m\u001b[0;34m(\u001b[0m\u001b[0mobj\u001b[0m\u001b[0;34m)\u001b[0m\u001b[0;34m:\u001b[0m\u001b[0;34m\u001b[0m\u001b[0;34m\u001b[0m\u001b[0m\n\u001b[0m\u001b[1;32m    110\u001b[0m                 \u001b[0;32mraise\u001b[0m \u001b[0mattr_err\u001b[0m\u001b[0;34m\u001b[0m\u001b[0;34m\u001b[0m\u001b[0m\n\u001b[1;32m    111\u001b[0m \u001b[0;34m\u001b[0m\u001b[0m\n",
            "\u001b[0;32m/usr/local/lib/python3.8/dist-packages/sklearn/pipeline.py\u001b[0m in \u001b[0;36mcheck\u001b[0;34m(self)\u001b[0m\n\u001b[1;32m     43\u001b[0m     \u001b[0;32mdef\u001b[0m \u001b[0mcheck\u001b[0m\u001b[0;34m(\u001b[0m\u001b[0mself\u001b[0m\u001b[0;34m)\u001b[0m\u001b[0;34m:\u001b[0m\u001b[0;34m\u001b[0m\u001b[0;34m\u001b[0m\u001b[0m\n\u001b[1;32m     44\u001b[0m         \u001b[0;31m# raise original `AttributeError` if `attr` does not exist\u001b[0m\u001b[0;34m\u001b[0m\u001b[0;34m\u001b[0m\u001b[0;34m\u001b[0m\u001b[0m\n\u001b[0;32m---> 45\u001b[0;31m         \u001b[0mgetattr\u001b[0m\u001b[0;34m(\u001b[0m\u001b[0mself\u001b[0m\u001b[0;34m.\u001b[0m\u001b[0m_final_estimator\u001b[0m\u001b[0;34m,\u001b[0m \u001b[0mattr\u001b[0m\u001b[0;34m)\u001b[0m\u001b[0;34m\u001b[0m\u001b[0;34m\u001b[0m\u001b[0m\n\u001b[0m\u001b[1;32m     46\u001b[0m         \u001b[0;32mreturn\u001b[0m \u001b[0;32mTrue\u001b[0m\u001b[0;34m\u001b[0m\u001b[0;34m\u001b[0m\u001b[0m\n\u001b[1;32m     47\u001b[0m \u001b[0;34m\u001b[0m\u001b[0m\n",
            "\u001b[0;31mAttributeError\u001b[0m: 'XGBClassifier' object has no attribute 'decision_function'"
          ]
        }
      ]
    }
  ]
}